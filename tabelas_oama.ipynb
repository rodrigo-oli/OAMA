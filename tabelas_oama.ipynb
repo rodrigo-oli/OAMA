{
 "cells": [
  {
   "cell_type": "markdown",
   "metadata": {},
   "source": [
    "## importando algumas bibliotecas"
   ]
  },
  {
   "cell_type": "code",
   "execution_count": 1,
   "metadata": {
    "ExecuteTime": {
     "end_time": "2021-03-29T22:23:52.654786Z",
     "start_time": "2021-03-29T22:23:50.832556Z"
    }
   },
   "outputs": [],
   "source": [
    "import pandas as pd\n",
    "import numpy as np\n",
    "import matplotlib.pyplot as plt\n",
    "import seaborn as sns"
   ]
  },
  {
   "cell_type": "markdown",
   "metadata": {},
   "source": [
    "## Abrindo arquivo *Effort*"
   ]
  },
  {
   "cell_type": "code",
   "execution_count": 2,
   "metadata": {
    "ExecuteTime": {
     "end_time": "2021-03-29T22:25:47.973874Z",
     "start_time": "2021-03-29T22:25:47.872776Z"
    }
   },
   "outputs": [],
   "source": [
    "effort = pd.read_csv('EFFORT_202103120950.csv')"
   ]
  },
  {
   "cell_type": "code",
   "execution_count": 3,
   "metadata": {
    "ExecuteTime": {
     "end_time": "2021-03-29T22:25:58.439816Z",
     "start_time": "2021-03-29T22:25:58.416066Z"
    }
   },
   "outputs": [
    {
     "data": {
      "text/plain": [
       "(11, 9)"
      ]
     },
     "execution_count": 3,
     "metadata": {},
     "output_type": "execute_result"
    }
   ],
   "source": [
    "effort.shape"
   ]
  },
  {
   "cell_type": "code",
   "execution_count": 4,
   "metadata": {
    "ExecuteTime": {
     "end_time": "2021-03-29T22:26:45.125080Z",
     "start_time": "2021-03-29T22:26:44.951103Z"
    }
   },
   "outputs": [
    {
     "data": {
      "text/html": [
       "<div>\n",
       "<style scoped>\n",
       "    .dataframe tbody tr th:only-of-type {\n",
       "        vertical-align: middle;\n",
       "    }\n",
       "\n",
       "    .dataframe tbody tr th {\n",
       "        vertical-align: top;\n",
       "    }\n",
       "\n",
       "    .dataframe thead th {\n",
       "        text-align: right;\n",
       "    }\n",
       "</style>\n",
       "<table border=\"1\" class=\"dataframe\">\n",
       "  <thead>\n",
       "    <tr style=\"text-align: right;\">\n",
       "      <th></th>\n",
       "      <th>effort_id</th>\n",
       "      <th>date_effort</th>\n",
       "      <th>notes</th>\n",
       "      <th>created_at</th>\n",
       "      <th>has_changed</th>\n",
       "      <th>original_id</th>\n",
       "      <th>station_id</th>\n",
       "      <th>protocol_id</th>\n",
       "      <th>updated_at</th>\n",
       "    </tr>\n",
       "  </thead>\n",
       "  <tbody>\n",
       "    <tr>\n",
       "      <th>0</th>\n",
       "      <td>1</td>\n",
       "      <td>2020-10-03 03:00:00.0</td>\n",
       "      <td>Esforço da campanha de 2020 para o projeto \"Pl...</td>\n",
       "      <td>2020-10-08 13:43:06.0</td>\n",
       "      <td>NaN</td>\n",
       "      <td>NaN</td>\n",
       "      <td>8</td>\n",
       "      <td>1</td>\n",
       "      <td>2020-10-08 13:43:06.0</td>\n",
       "    </tr>\n",
       "    <tr>\n",
       "      <th>1</th>\n",
       "      <td>2</td>\n",
       "      <td>2020-10-03 03:00:00.0</td>\n",
       "      <td>Esforço da campanha de 2020 para o projeto \"Pl...</td>\n",
       "      <td>2020-10-08 13:45:20.0</td>\n",
       "      <td>NaN</td>\n",
       "      <td>NaN</td>\n",
       "      <td>3</td>\n",
       "      <td>1</td>\n",
       "      <td>2020-10-08 13:45:20.0</td>\n",
       "    </tr>\n",
       "    <tr>\n",
       "      <th>2</th>\n",
       "      <td>3</td>\n",
       "      <td>2020-10-04 03:00:00.0</td>\n",
       "      <td>Esforço da campanha de 2020 para o projeto \"Pl...</td>\n",
       "      <td>2020-10-08 13:48:26.0</td>\n",
       "      <td>NaN</td>\n",
       "      <td>NaN</td>\n",
       "      <td>9</td>\n",
       "      <td>1</td>\n",
       "      <td>2020-10-08 13:48:26.0</td>\n",
       "    </tr>\n",
       "    <tr>\n",
       "      <th>3</th>\n",
       "      <td>4</td>\n",
       "      <td>2020-10-05 03:00:00.0</td>\n",
       "      <td>Esforço da campanha de 2020 para o projeto \"Pl...</td>\n",
       "      <td>2020-10-08 13:57:15.0</td>\n",
       "      <td>NaN</td>\n",
       "      <td>NaN</td>\n",
       "      <td>7</td>\n",
       "      <td>1</td>\n",
       "      <td>2020-10-08 13:57:15.0</td>\n",
       "    </tr>\n",
       "    <tr>\n",
       "      <th>4</th>\n",
       "      <td>5</td>\n",
       "      <td>2020-10-07 03:00:00.0</td>\n",
       "      <td>Esforço da campanha de 2020 para o projeto \"Pl...</td>\n",
       "      <td>2020-10-08 13:58:46.0</td>\n",
       "      <td>NaN</td>\n",
       "      <td>NaN</td>\n",
       "      <td>4</td>\n",
       "      <td>1</td>\n",
       "      <td>2020-10-08 13:58:46.0</td>\n",
       "    </tr>\n",
       "    <tr>\n",
       "      <th>5</th>\n",
       "      <td>6</td>\n",
       "      <td>2020-10-08 03:00:00.0</td>\n",
       "      <td>Esforço da campanha de 2020 para o projeto \"Pl...</td>\n",
       "      <td>2020-10-08 14:04:04.0</td>\n",
       "      <td>NaN</td>\n",
       "      <td>NaN</td>\n",
       "      <td>10</td>\n",
       "      <td>1</td>\n",
       "      <td>2020-10-08 14:04:04.0</td>\n",
       "    </tr>\n",
       "    <tr>\n",
       "      <th>6</th>\n",
       "      <td>7</td>\n",
       "      <td>2020-10-09 03:00:00.0</td>\n",
       "      <td>Esforço da campanha de 2020 para o projeto \"Pl...</td>\n",
       "      <td>2020-10-09 20:32:37.0</td>\n",
       "      <td>NaN</td>\n",
       "      <td>NaN</td>\n",
       "      <td>5</td>\n",
       "      <td>1</td>\n",
       "      <td>2020-10-09 20:32:37.0</td>\n",
       "    </tr>\n",
       "    <tr>\n",
       "      <th>7</th>\n",
       "      <td>8</td>\n",
       "      <td>2021-01-26 03:00:00.0</td>\n",
       "      <td>Primeiro esforço 2021</td>\n",
       "      <td>2021-01-26 20:06:34.0</td>\n",
       "      <td>NaN</td>\n",
       "      <td>NaN</td>\n",
       "      <td>2</td>\n",
       "      <td>1</td>\n",
       "      <td>2021-01-26 20:06:34.0</td>\n",
       "    </tr>\n",
       "    <tr>\n",
       "      <th>8</th>\n",
       "      <td>9</td>\n",
       "      <td>2021-01-27 00:00:00.0</td>\n",
       "      <td>NaN</td>\n",
       "      <td>2021-01-27 19:40:34.0</td>\n",
       "      <td>NaN</td>\n",
       "      <td>NaN</td>\n",
       "      <td>2</td>\n",
       "      <td>1</td>\n",
       "      <td>2021-01-27 19:40:34.0</td>\n",
       "    </tr>\n",
       "    <tr>\n",
       "      <th>9</th>\n",
       "      <td>10</td>\n",
       "      <td>2021-02-28 00:00:00.0</td>\n",
       "      <td>NaN</td>\n",
       "      <td>2021-03-07 13:19:16.0</td>\n",
       "      <td>NaN</td>\n",
       "      <td>NaN</td>\n",
       "      <td>2</td>\n",
       "      <td>1</td>\n",
       "      <td>2021-03-07 13:19:16.0</td>\n",
       "    </tr>\n",
       "    <tr>\n",
       "      <th>10</th>\n",
       "      <td>11</td>\n",
       "      <td>2021-03-01 00:00:00.0</td>\n",
       "      <td>NaN</td>\n",
       "      <td>2021-03-07 13:28:26.0</td>\n",
       "      <td>NaN</td>\n",
       "      <td>NaN</td>\n",
       "      <td>2</td>\n",
       "      <td>1</td>\n",
       "      <td>2021-03-07 13:28:26.0</td>\n",
       "    </tr>\n",
       "  </tbody>\n",
       "</table>\n",
       "</div>"
      ],
      "text/plain": [
       "    effort_id            date_effort  \\\n",
       "0           1  2020-10-03 03:00:00.0   \n",
       "1           2  2020-10-03 03:00:00.0   \n",
       "2           3  2020-10-04 03:00:00.0   \n",
       "3           4  2020-10-05 03:00:00.0   \n",
       "4           5  2020-10-07 03:00:00.0   \n",
       "5           6  2020-10-08 03:00:00.0   \n",
       "6           7  2020-10-09 03:00:00.0   \n",
       "7           8  2021-01-26 03:00:00.0   \n",
       "8           9  2021-01-27 00:00:00.0   \n",
       "9          10  2021-02-28 00:00:00.0   \n",
       "10         11  2021-03-01 00:00:00.0   \n",
       "\n",
       "                                                notes             created_at  \\\n",
       "0   Esforço da campanha de 2020 para o projeto \"Pl...  2020-10-08 13:43:06.0   \n",
       "1   Esforço da campanha de 2020 para o projeto \"Pl...  2020-10-08 13:45:20.0   \n",
       "2   Esforço da campanha de 2020 para o projeto \"Pl...  2020-10-08 13:48:26.0   \n",
       "3   Esforço da campanha de 2020 para o projeto \"Pl...  2020-10-08 13:57:15.0   \n",
       "4   Esforço da campanha de 2020 para o projeto \"Pl...  2020-10-08 13:58:46.0   \n",
       "5   Esforço da campanha de 2020 para o projeto \"Pl...  2020-10-08 14:04:04.0   \n",
       "6   Esforço da campanha de 2020 para o projeto \"Pl...  2020-10-09 20:32:37.0   \n",
       "7                               Primeiro esforço 2021  2021-01-26 20:06:34.0   \n",
       "8                                                 NaN  2021-01-27 19:40:34.0   \n",
       "9                                                 NaN  2021-03-07 13:19:16.0   \n",
       "10                                                NaN  2021-03-07 13:28:26.0   \n",
       "\n",
       "    has_changed  original_id  station_id  protocol_id             updated_at  \n",
       "0           NaN          NaN           8            1  2020-10-08 13:43:06.0  \n",
       "1           NaN          NaN           3            1  2020-10-08 13:45:20.0  \n",
       "2           NaN          NaN           9            1  2020-10-08 13:48:26.0  \n",
       "3           NaN          NaN           7            1  2020-10-08 13:57:15.0  \n",
       "4           NaN          NaN           4            1  2020-10-08 13:58:46.0  \n",
       "5           NaN          NaN          10            1  2020-10-08 14:04:04.0  \n",
       "6           NaN          NaN           5            1  2020-10-09 20:32:37.0  \n",
       "7           NaN          NaN           2            1  2021-01-26 20:06:34.0  \n",
       "8           NaN          NaN           2            1  2021-01-27 19:40:34.0  \n",
       "9           NaN          NaN           2            1  2021-03-07 13:19:16.0  \n",
       "10          NaN          NaN           2            1  2021-03-07 13:28:26.0  "
      ]
     },
     "execution_count": 4,
     "metadata": {},
     "output_type": "execute_result"
    }
   ],
   "source": [
    "effort.head(50)"
   ]
  },
  {
   "cell_type": "code",
   "execution_count": 5,
   "metadata": {
    "ExecuteTime": {
     "end_time": "2021-03-29T22:26:58.323440Z",
     "start_time": "2021-03-29T22:26:58.251318Z"
    }
   },
   "outputs": [
    {
     "data": {
      "text/plain": [
       "effort_id      11\n",
       "date_effort    11\n",
       "notes           8\n",
       "created_at     11\n",
       "has_changed     0\n",
       "original_id     0\n",
       "station_id     11\n",
       "protocol_id    11\n",
       "updated_at     11\n",
       "dtype: int64"
      ]
     },
     "execution_count": 5,
     "metadata": {},
     "output_type": "execute_result"
    }
   ],
   "source": [
    "effort.count()"
   ]
  },
  {
   "cell_type": "code",
   "execution_count": 7,
   "metadata": {
    "ExecuteTime": {
     "end_time": "2021-03-29T22:27:15.453984Z",
     "start_time": "2021-03-29T22:27:15.421990Z"
    }
   },
   "outputs": [
    {
     "name": "stdout",
     "output_type": "stream",
     "text": [
      "<class 'pandas.core.frame.DataFrame'>\n",
      "RangeIndex: 11 entries, 0 to 10\n",
      "Data columns (total 9 columns):\n",
      " #   Column       Non-Null Count  Dtype  \n",
      "---  ------       --------------  -----  \n",
      " 0   effort_id    11 non-null     int64  \n",
      " 1   date_effort  11 non-null     object \n",
      " 2   notes        8 non-null      object \n",
      " 3   created_at   11 non-null     object \n",
      " 4   has_changed  0 non-null      float64\n",
      " 5   original_id  0 non-null      float64\n",
      " 6   station_id   11 non-null     int64  \n",
      " 7   protocol_id  11 non-null     int64  \n",
      " 8   updated_at   11 non-null     object \n",
      "dtypes: float64(2), int64(3), object(4)\n",
      "memory usage: 920.0+ bytes\n"
     ]
    }
   ],
   "source": [
    "effort.info()"
   ]
  },
  {
   "cell_type": "markdown",
   "metadata": {},
   "source": [
    "## Abrindo arquivo *Effort Categorical Values*"
   ]
  },
  {
   "cell_type": "code",
   "execution_count": 8,
   "metadata": {
    "ExecuteTime": {
     "end_time": "2021-03-29T22:27:32.852870Z",
     "start_time": "2021-03-29T22:27:32.772656Z"
    }
   },
   "outputs": [],
   "source": [
    "effort_categ_values = pd.read_csv ('volu/EFFORT_CATEGORICAL_VALUES_202103120950.csv')"
   ]
  },
  {
   "cell_type": "code",
   "execution_count": 9,
   "metadata": {
    "ExecuteTime": {
     "end_time": "2021-03-29T22:27:39.981268Z",
     "start_time": "2021-03-29T22:27:39.965268Z"
    }
   },
   "outputs": [
    {
     "name": "stdout",
     "output_type": "stream",
     "text": [
      "<class 'pandas.core.frame.DataFrame'>\n",
      "RangeIndex: 66 entries, 0 to 65\n",
      "Data columns (total 9 columns):\n",
      " #   Column                        Non-Null Count  Dtype  \n",
      "---  ------                        --------------  -----  \n",
      " 0   effort_categorical_value_id   66 non-null     int64  \n",
      " 1   effort_id                     66 non-null     int64  \n",
      " 2   effort_categorical_option_id  66 non-null     int64  \n",
      " 3   effort_time_id                66 non-null     int64  \n",
      " 4   created_at                    66 non-null     object \n",
      " 5   has_changed                   66 non-null     int64  \n",
      " 6   original_id                   0 non-null      float64\n",
      " 7   updated_at                    66 non-null     object \n",
      " 8   effort_variable_id            66 non-null     int64  \n",
      "dtypes: float64(1), int64(6), object(2)\n",
      "memory usage: 4.8+ KB\n"
     ]
    }
   ],
   "source": [
    "effort_categ_values.info()"
   ]
  },
  {
   "cell_type": "code",
   "execution_count": 10,
   "metadata": {
    "ExecuteTime": {
     "end_time": "2021-03-29T22:27:53.593026Z",
     "start_time": "2021-03-29T22:27:53.553029Z"
    }
   },
   "outputs": [
    {
     "data": {
      "text/html": [
       "<div>\n",
       "<style scoped>\n",
       "    .dataframe tbody tr th:only-of-type {\n",
       "        vertical-align: middle;\n",
       "    }\n",
       "\n",
       "    .dataframe tbody tr th {\n",
       "        vertical-align: top;\n",
       "    }\n",
       "\n",
       "    .dataframe thead th {\n",
       "        text-align: right;\n",
       "    }\n",
       "</style>\n",
       "<table border=\"1\" class=\"dataframe\">\n",
       "  <thead>\n",
       "    <tr style=\"text-align: right;\">\n",
       "      <th></th>\n",
       "      <th>effort_categorical_value_id</th>\n",
       "      <th>effort_id</th>\n",
       "      <th>effort_categorical_option_id</th>\n",
       "      <th>effort_time_id</th>\n",
       "      <th>created_at</th>\n",
       "      <th>has_changed</th>\n",
       "      <th>original_id</th>\n",
       "      <th>updated_at</th>\n",
       "      <th>effort_variable_id</th>\n",
       "    </tr>\n",
       "  </thead>\n",
       "  <tbody>\n",
       "    <tr>\n",
       "      <th>0</th>\n",
       "      <td>1</td>\n",
       "      <td>1</td>\n",
       "      <td>4</td>\n",
       "      <td>1</td>\n",
       "      <td>2020-10-08 13:43:09.0</td>\n",
       "      <td>0</td>\n",
       "      <td>NaN</td>\n",
       "      <td>2020-10-08 13:43:09.0</td>\n",
       "      <td>3</td>\n",
       "    </tr>\n",
       "    <tr>\n",
       "      <th>1</th>\n",
       "      <td>2</td>\n",
       "      <td>1</td>\n",
       "      <td>2</td>\n",
       "      <td>2</td>\n",
       "      <td>2020-10-08 13:43:09.0</td>\n",
       "      <td>0</td>\n",
       "      <td>NaN</td>\n",
       "      <td>2020-10-08 13:43:09.0</td>\n",
       "      <td>3</td>\n",
       "    </tr>\n",
       "    <tr>\n",
       "      <th>2</th>\n",
       "      <td>3</td>\n",
       "      <td>1</td>\n",
       "      <td>7</td>\n",
       "      <td>2</td>\n",
       "      <td>2020-10-08 13:43:09.0</td>\n",
       "      <td>0</td>\n",
       "      <td>NaN</td>\n",
       "      <td>2020-10-08 13:43:09.0</td>\n",
       "      <td>4</td>\n",
       "    </tr>\n",
       "    <tr>\n",
       "      <th>3</th>\n",
       "      <td>4</td>\n",
       "      <td>1</td>\n",
       "      <td>7</td>\n",
       "      <td>3</td>\n",
       "      <td>2020-10-08 13:43:10.0</td>\n",
       "      <td>0</td>\n",
       "      <td>NaN</td>\n",
       "      <td>2020-10-08 13:43:10.0</td>\n",
       "      <td>4</td>\n",
       "    </tr>\n",
       "    <tr>\n",
       "      <th>4</th>\n",
       "      <td>5</td>\n",
       "      <td>1</td>\n",
       "      <td>7</td>\n",
       "      <td>1</td>\n",
       "      <td>2020-10-08 13:43:09.0</td>\n",
       "      <td>0</td>\n",
       "      <td>NaN</td>\n",
       "      <td>2020-10-08 13:43:09.0</td>\n",
       "      <td>4</td>\n",
       "    </tr>\n",
       "    <tr>\n",
       "      <th>5</th>\n",
       "      <td>6</td>\n",
       "      <td>1</td>\n",
       "      <td>2</td>\n",
       "      <td>3</td>\n",
       "      <td>2020-10-08 13:43:09.0</td>\n",
       "      <td>0</td>\n",
       "      <td>NaN</td>\n",
       "      <td>2020-10-08 13:43:09.0</td>\n",
       "      <td>3</td>\n",
       "    </tr>\n",
       "    <tr>\n",
       "      <th>6</th>\n",
       "      <td>7</td>\n",
       "      <td>2</td>\n",
       "      <td>4</td>\n",
       "      <td>1</td>\n",
       "      <td>2020-10-08 13:45:23.0</td>\n",
       "      <td>0</td>\n",
       "      <td>NaN</td>\n",
       "      <td>2020-10-08 13:45:23.0</td>\n",
       "      <td>3</td>\n",
       "    </tr>\n",
       "    <tr>\n",
       "      <th>7</th>\n",
       "      <td>8</td>\n",
       "      <td>2</td>\n",
       "      <td>2</td>\n",
       "      <td>2</td>\n",
       "      <td>2020-10-08 13:45:23.0</td>\n",
       "      <td>0</td>\n",
       "      <td>NaN</td>\n",
       "      <td>2020-10-08 13:45:23.0</td>\n",
       "      <td>3</td>\n",
       "    </tr>\n",
       "    <tr>\n",
       "      <th>8</th>\n",
       "      <td>9</td>\n",
       "      <td>2</td>\n",
       "      <td>2</td>\n",
       "      <td>3</td>\n",
       "      <td>2020-10-08 13:45:23.0</td>\n",
       "      <td>0</td>\n",
       "      <td>NaN</td>\n",
       "      <td>2020-10-08 13:45:23.0</td>\n",
       "      <td>3</td>\n",
       "    </tr>\n",
       "    <tr>\n",
       "      <th>9</th>\n",
       "      <td>10</td>\n",
       "      <td>2</td>\n",
       "      <td>7</td>\n",
       "      <td>3</td>\n",
       "      <td>2020-10-08 13:45:24.0</td>\n",
       "      <td>0</td>\n",
       "      <td>NaN</td>\n",
       "      <td>2020-10-08 13:45:24.0</td>\n",
       "      <td>4</td>\n",
       "    </tr>\n",
       "    <tr>\n",
       "      <th>10</th>\n",
       "      <td>11</td>\n",
       "      <td>2</td>\n",
       "      <td>7</td>\n",
       "      <td>1</td>\n",
       "      <td>2020-10-08 13:45:23.0</td>\n",
       "      <td>0</td>\n",
       "      <td>NaN</td>\n",
       "      <td>2020-10-08 13:45:23.0</td>\n",
       "      <td>4</td>\n",
       "    </tr>\n",
       "    <tr>\n",
       "      <th>11</th>\n",
       "      <td>12</td>\n",
       "      <td>2</td>\n",
       "      <td>7</td>\n",
       "      <td>2</td>\n",
       "      <td>2020-10-08 13:45:23.0</td>\n",
       "      <td>0</td>\n",
       "      <td>NaN</td>\n",
       "      <td>2020-10-08 13:45:23.0</td>\n",
       "      <td>4</td>\n",
       "    </tr>\n",
       "    <tr>\n",
       "      <th>12</th>\n",
       "      <td>13</td>\n",
       "      <td>3</td>\n",
       "      <td>1</td>\n",
       "      <td>1</td>\n",
       "      <td>2020-10-08 13:48:31.0</td>\n",
       "      <td>0</td>\n",
       "      <td>NaN</td>\n",
       "      <td>2020-10-08 13:48:31.0</td>\n",
       "      <td>3</td>\n",
       "    </tr>\n",
       "    <tr>\n",
       "      <th>13</th>\n",
       "      <td>14</td>\n",
       "      <td>3</td>\n",
       "      <td>1</td>\n",
       "      <td>2</td>\n",
       "      <td>2020-10-08 13:48:31.0</td>\n",
       "      <td>0</td>\n",
       "      <td>NaN</td>\n",
       "      <td>2020-10-08 13:48:31.0</td>\n",
       "      <td>3</td>\n",
       "    </tr>\n",
       "    <tr>\n",
       "      <th>14</th>\n",
       "      <td>15</td>\n",
       "      <td>3</td>\n",
       "      <td>1</td>\n",
       "      <td>3</td>\n",
       "      <td>2020-10-08 13:48:31.0</td>\n",
       "      <td>0</td>\n",
       "      <td>NaN</td>\n",
       "      <td>2020-10-08 13:48:31.0</td>\n",
       "      <td>3</td>\n",
       "    </tr>\n",
       "    <tr>\n",
       "      <th>15</th>\n",
       "      <td>16</td>\n",
       "      <td>3</td>\n",
       "      <td>6</td>\n",
       "      <td>1</td>\n",
       "      <td>2020-10-08 13:48:31.0</td>\n",
       "      <td>0</td>\n",
       "      <td>NaN</td>\n",
       "      <td>2020-10-08 13:48:31.0</td>\n",
       "      <td>4</td>\n",
       "    </tr>\n",
       "    <tr>\n",
       "      <th>16</th>\n",
       "      <td>17</td>\n",
       "      <td>3</td>\n",
       "      <td>7</td>\n",
       "      <td>2</td>\n",
       "      <td>2020-10-08 13:48:31.0</td>\n",
       "      <td>0</td>\n",
       "      <td>NaN</td>\n",
       "      <td>2020-10-08 13:48:31.0</td>\n",
       "      <td>4</td>\n",
       "    </tr>\n",
       "    <tr>\n",
       "      <th>17</th>\n",
       "      <td>18</td>\n",
       "      <td>3</td>\n",
       "      <td>7</td>\n",
       "      <td>3</td>\n",
       "      <td>2020-10-08 13:48:31.0</td>\n",
       "      <td>0</td>\n",
       "      <td>NaN</td>\n",
       "      <td>2020-10-08 13:48:31.0</td>\n",
       "      <td>4</td>\n",
       "    </tr>\n",
       "    <tr>\n",
       "      <th>18</th>\n",
       "      <td>19</td>\n",
       "      <td>4</td>\n",
       "      <td>4</td>\n",
       "      <td>1</td>\n",
       "      <td>2020-10-08 13:57:23.0</td>\n",
       "      <td>0</td>\n",
       "      <td>NaN</td>\n",
       "      <td>2020-10-08 13:57:23.0</td>\n",
       "      <td>3</td>\n",
       "    </tr>\n",
       "    <tr>\n",
       "      <th>19</th>\n",
       "      <td>20</td>\n",
       "      <td>4</td>\n",
       "      <td>4</td>\n",
       "      <td>2</td>\n",
       "      <td>2020-10-08 13:57:23.0</td>\n",
       "      <td>0</td>\n",
       "      <td>NaN</td>\n",
       "      <td>2020-10-08 13:57:23.0</td>\n",
       "      <td>3</td>\n",
       "    </tr>\n",
       "  </tbody>\n",
       "</table>\n",
       "</div>"
      ],
      "text/plain": [
       "    effort_categorical_value_id  effort_id  effort_categorical_option_id  \\\n",
       "0                             1          1                             4   \n",
       "1                             2          1                             2   \n",
       "2                             3          1                             7   \n",
       "3                             4          1                             7   \n",
       "4                             5          1                             7   \n",
       "5                             6          1                             2   \n",
       "6                             7          2                             4   \n",
       "7                             8          2                             2   \n",
       "8                             9          2                             2   \n",
       "9                            10          2                             7   \n",
       "10                           11          2                             7   \n",
       "11                           12          2                             7   \n",
       "12                           13          3                             1   \n",
       "13                           14          3                             1   \n",
       "14                           15          3                             1   \n",
       "15                           16          3                             6   \n",
       "16                           17          3                             7   \n",
       "17                           18          3                             7   \n",
       "18                           19          4                             4   \n",
       "19                           20          4                             4   \n",
       "\n",
       "    effort_time_id             created_at  has_changed  original_id  \\\n",
       "0                1  2020-10-08 13:43:09.0            0          NaN   \n",
       "1                2  2020-10-08 13:43:09.0            0          NaN   \n",
       "2                2  2020-10-08 13:43:09.0            0          NaN   \n",
       "3                3  2020-10-08 13:43:10.0            0          NaN   \n",
       "4                1  2020-10-08 13:43:09.0            0          NaN   \n",
       "5                3  2020-10-08 13:43:09.0            0          NaN   \n",
       "6                1  2020-10-08 13:45:23.0            0          NaN   \n",
       "7                2  2020-10-08 13:45:23.0            0          NaN   \n",
       "8                3  2020-10-08 13:45:23.0            0          NaN   \n",
       "9                3  2020-10-08 13:45:24.0            0          NaN   \n",
       "10               1  2020-10-08 13:45:23.0            0          NaN   \n",
       "11               2  2020-10-08 13:45:23.0            0          NaN   \n",
       "12               1  2020-10-08 13:48:31.0            0          NaN   \n",
       "13               2  2020-10-08 13:48:31.0            0          NaN   \n",
       "14               3  2020-10-08 13:48:31.0            0          NaN   \n",
       "15               1  2020-10-08 13:48:31.0            0          NaN   \n",
       "16               2  2020-10-08 13:48:31.0            0          NaN   \n",
       "17               3  2020-10-08 13:48:31.0            0          NaN   \n",
       "18               1  2020-10-08 13:57:23.0            0          NaN   \n",
       "19               2  2020-10-08 13:57:23.0            0          NaN   \n",
       "\n",
       "               updated_at  effort_variable_id  \n",
       "0   2020-10-08 13:43:09.0                   3  \n",
       "1   2020-10-08 13:43:09.0                   3  \n",
       "2   2020-10-08 13:43:09.0                   4  \n",
       "3   2020-10-08 13:43:10.0                   4  \n",
       "4   2020-10-08 13:43:09.0                   4  \n",
       "5   2020-10-08 13:43:09.0                   3  \n",
       "6   2020-10-08 13:45:23.0                   3  \n",
       "7   2020-10-08 13:45:23.0                   3  \n",
       "8   2020-10-08 13:45:23.0                   3  \n",
       "9   2020-10-08 13:45:24.0                   4  \n",
       "10  2020-10-08 13:45:23.0                   4  \n",
       "11  2020-10-08 13:45:23.0                   4  \n",
       "12  2020-10-08 13:48:31.0                   3  \n",
       "13  2020-10-08 13:48:31.0                   3  \n",
       "14  2020-10-08 13:48:31.0                   3  \n",
       "15  2020-10-08 13:48:31.0                   4  \n",
       "16  2020-10-08 13:48:31.0                   4  \n",
       "17  2020-10-08 13:48:31.0                   4  \n",
       "18  2020-10-08 13:57:23.0                   3  \n",
       "19  2020-10-08 13:57:23.0                   3  "
      ]
     },
     "execution_count": 10,
     "metadata": {},
     "output_type": "execute_result"
    }
   ],
   "source": [
    "effort_categ_values.head(20)"
   ]
  },
  {
   "cell_type": "code",
   "execution_count": 11,
   "metadata": {
    "ExecuteTime": {
     "end_time": "2021-03-29T22:28:14.454191Z",
     "start_time": "2021-03-29T22:28:14.446192Z"
    }
   },
   "outputs": [
    {
     "data": {
      "text/plain": [
       "(66, 9)"
      ]
     },
     "execution_count": 11,
     "metadata": {},
     "output_type": "execute_result"
    }
   ],
   "source": [
    "effort_categ_values.shape"
   ]
  },
  {
   "cell_type": "code",
   "execution_count": 12,
   "metadata": {
    "ExecuteTime": {
     "end_time": "2021-03-29T22:28:21.728730Z",
     "start_time": "2021-03-29T22:28:21.704708Z"
    }
   },
   "outputs": [
    {
     "data": {
      "text/plain": [
       "Index(['effort_categorical_value_id', 'effort_id',\n",
       "       'effort_categorical_option_id', 'effort_time_id', 'created_at',\n",
       "       'has_changed', 'original_id', 'updated_at', 'effort_variable_id'],\n",
       "      dtype='object')"
      ]
     },
     "execution_count": 12,
     "metadata": {},
     "output_type": "execute_result"
    }
   ],
   "source": [
    "effort_categ_values.columns"
   ]
  },
  {
   "cell_type": "markdown",
   "metadata": {
    "ExecuteTime": {
     "end_time": "2021-03-29T22:59:28.677654Z",
     "start_time": "2021-03-29T22:59:28.661653Z"
    }
   },
   "source": [
    "## Abrindo arquivo *Effort Continuos Values*"
   ]
  },
  {
   "cell_type": "code",
   "execution_count": 14,
   "metadata": {
    "ExecuteTime": {
     "end_time": "2021-03-29T22:28:41.091938Z",
     "start_time": "2021-03-29T22:28:41.035880Z"
    }
   },
   "outputs": [],
   "source": [
    "effort_conti_values = pd.read_csv ('volu/EFFORT_CONTINUOUS_VALUES_202103120950.csv')"
   ]
  },
  {
   "cell_type": "code",
   "execution_count": 15,
   "metadata": {
    "ExecuteTime": {
     "end_time": "2021-03-29T22:28:47.783163Z",
     "start_time": "2021-03-29T22:28:47.759142Z"
    }
   },
   "outputs": [
    {
     "name": "stdout",
     "output_type": "stream",
     "text": [
      "<class 'pandas.core.frame.DataFrame'>\n",
      "RangeIndex: 66 entries, 0 to 65\n",
      "Data columns (total 9 columns):\n",
      " #   Column                      Non-Null Count  Dtype  \n",
      "---  ------                      --------------  -----  \n",
      " 0   effort_continuous_value_id  66 non-null     int64  \n",
      " 1   effort_id                   66 non-null     int64  \n",
      " 2   value                       62 non-null     float64\n",
      " 3   effort_time_id              66 non-null     int64  \n",
      " 4   created_at                  66 non-null     object \n",
      " 5   has_changed                 66 non-null     int64  \n",
      " 6   original_id                 0 non-null      float64\n",
      " 7   updated_at                  66 non-null     object \n",
      " 8   effort_variable_id          66 non-null     int64  \n",
      "dtypes: float64(2), int64(5), object(2)\n",
      "memory usage: 4.8+ KB\n"
     ]
    }
   ],
   "source": [
    "effort_conti_values.info()"
   ]
  },
  {
   "cell_type": "code",
   "execution_count": 16,
   "metadata": {
    "ExecuteTime": {
     "end_time": "2021-03-29T22:28:58.982208Z",
     "start_time": "2021-03-29T22:28:58.966188Z"
    }
   },
   "outputs": [
    {
     "data": {
      "text/plain": [
       "(66, 9)"
      ]
     },
     "execution_count": 16,
     "metadata": {},
     "output_type": "execute_result"
    }
   ],
   "source": [
    "effort_conti_values.shape"
   ]
  },
  {
   "cell_type": "code",
   "execution_count": 17,
   "metadata": {
    "ExecuteTime": {
     "end_time": "2021-03-29T22:29:05.580172Z",
     "start_time": "2021-03-29T22:29:05.540175Z"
    }
   },
   "outputs": [
    {
     "data": {
      "text/html": [
       "<div>\n",
       "<style scoped>\n",
       "    .dataframe tbody tr th:only-of-type {\n",
       "        vertical-align: middle;\n",
       "    }\n",
       "\n",
       "    .dataframe tbody tr th {\n",
       "        vertical-align: top;\n",
       "    }\n",
       "\n",
       "    .dataframe thead th {\n",
       "        text-align: right;\n",
       "    }\n",
       "</style>\n",
       "<table border=\"1\" class=\"dataframe\">\n",
       "  <thead>\n",
       "    <tr style=\"text-align: right;\">\n",
       "      <th></th>\n",
       "      <th>effort_continuous_value_id</th>\n",
       "      <th>effort_id</th>\n",
       "      <th>value</th>\n",
       "      <th>effort_time_id</th>\n",
       "      <th>created_at</th>\n",
       "      <th>has_changed</th>\n",
       "      <th>original_id</th>\n",
       "      <th>updated_at</th>\n",
       "      <th>effort_variable_id</th>\n",
       "    </tr>\n",
       "  </thead>\n",
       "  <tbody>\n",
       "    <tr>\n",
       "      <th>0</th>\n",
       "      <td>1</td>\n",
       "      <td>1</td>\n",
       "      <td>3.0</td>\n",
       "      <td>1</td>\n",
       "      <td>2020-10-08 13:43:09.0</td>\n",
       "      <td>0</td>\n",
       "      <td>NaN</td>\n",
       "      <td>2020-10-08 13:43:09.0</td>\n",
       "      <td>1</td>\n",
       "    </tr>\n",
       "    <tr>\n",
       "      <th>1</th>\n",
       "      <td>2</td>\n",
       "      <td>1</td>\n",
       "      <td>1.0</td>\n",
       "      <td>2</td>\n",
       "      <td>2020-10-08 13:43:09.0</td>\n",
       "      <td>0</td>\n",
       "      <td>NaN</td>\n",
       "      <td>2020-10-08 13:43:09.0</td>\n",
       "      <td>1</td>\n",
       "    </tr>\n",
       "    <tr>\n",
       "      <th>2</th>\n",
       "      <td>3</td>\n",
       "      <td>1</td>\n",
       "      <td>1.0</td>\n",
       "      <td>3</td>\n",
       "      <td>2020-10-08 13:43:09.0</td>\n",
       "      <td>0</td>\n",
       "      <td>NaN</td>\n",
       "      <td>2020-10-08 13:43:09.0</td>\n",
       "      <td>1</td>\n",
       "    </tr>\n",
       "    <tr>\n",
       "      <th>3</th>\n",
       "      <td>4</td>\n",
       "      <td>1</td>\n",
       "      <td>0.0</td>\n",
       "      <td>1</td>\n",
       "      <td>2020-10-08 13:43:09.0</td>\n",
       "      <td>0</td>\n",
       "      <td>NaN</td>\n",
       "      <td>2020-10-08 13:43:09.0</td>\n",
       "      <td>2</td>\n",
       "    </tr>\n",
       "    <tr>\n",
       "      <th>4</th>\n",
       "      <td>5</td>\n",
       "      <td>1</td>\n",
       "      <td>0.0</td>\n",
       "      <td>2</td>\n",
       "      <td>2020-10-08 13:43:09.0</td>\n",
       "      <td>0</td>\n",
       "      <td>NaN</td>\n",
       "      <td>2020-10-08 13:43:09.0</td>\n",
       "      <td>2</td>\n",
       "    </tr>\n",
       "    <tr>\n",
       "      <th>5</th>\n",
       "      <td>6</td>\n",
       "      <td>1</td>\n",
       "      <td>70.0</td>\n",
       "      <td>3</td>\n",
       "      <td>2020-10-08 13:43:09.0</td>\n",
       "      <td>0</td>\n",
       "      <td>NaN</td>\n",
       "      <td>2020-10-08 13:43:09.0</td>\n",
       "      <td>2</td>\n",
       "    </tr>\n",
       "    <tr>\n",
       "      <th>6</th>\n",
       "      <td>7</td>\n",
       "      <td>2</td>\n",
       "      <td>22.0</td>\n",
       "      <td>1</td>\n",
       "      <td>2020-10-08 13:45:23.0</td>\n",
       "      <td>0</td>\n",
       "      <td>NaN</td>\n",
       "      <td>2020-10-08 13:45:23.0</td>\n",
       "      <td>1</td>\n",
       "    </tr>\n",
       "    <tr>\n",
       "      <th>7</th>\n",
       "      <td>8</td>\n",
       "      <td>2</td>\n",
       "      <td>23.0</td>\n",
       "      <td>2</td>\n",
       "      <td>2020-10-08 13:45:23.0</td>\n",
       "      <td>0</td>\n",
       "      <td>NaN</td>\n",
       "      <td>2020-10-08 13:45:23.0</td>\n",
       "      <td>1</td>\n",
       "    </tr>\n",
       "    <tr>\n",
       "      <th>8</th>\n",
       "      <td>9</td>\n",
       "      <td>2</td>\n",
       "      <td>25.0</td>\n",
       "      <td>3</td>\n",
       "      <td>2020-10-08 13:45:23.0</td>\n",
       "      <td>0</td>\n",
       "      <td>NaN</td>\n",
       "      <td>2020-10-08 13:45:23.0</td>\n",
       "      <td>1</td>\n",
       "    </tr>\n",
       "    <tr>\n",
       "      <th>9</th>\n",
       "      <td>10</td>\n",
       "      <td>2</td>\n",
       "      <td>0.0</td>\n",
       "      <td>1</td>\n",
       "      <td>2020-10-08 13:45:23.0</td>\n",
       "      <td>0</td>\n",
       "      <td>NaN</td>\n",
       "      <td>2020-10-08 13:45:23.0</td>\n",
       "      <td>2</td>\n",
       "    </tr>\n",
       "    <tr>\n",
       "      <th>10</th>\n",
       "      <td>11</td>\n",
       "      <td>2</td>\n",
       "      <td>0.0</td>\n",
       "      <td>2</td>\n",
       "      <td>2020-10-08 13:45:23.0</td>\n",
       "      <td>0</td>\n",
       "      <td>NaN</td>\n",
       "      <td>2020-10-08 13:45:23.0</td>\n",
       "      <td>2</td>\n",
       "    </tr>\n",
       "    <tr>\n",
       "      <th>11</th>\n",
       "      <td>12</td>\n",
       "      <td>2</td>\n",
       "      <td>70.0</td>\n",
       "      <td>3</td>\n",
       "      <td>2020-10-08 13:45:23.0</td>\n",
       "      <td>0</td>\n",
       "      <td>NaN</td>\n",
       "      <td>2020-10-08 13:45:23.0</td>\n",
       "      <td>2</td>\n",
       "    </tr>\n",
       "    <tr>\n",
       "      <th>12</th>\n",
       "      <td>13</td>\n",
       "      <td>3</td>\n",
       "      <td>19.0</td>\n",
       "      <td>1</td>\n",
       "      <td>2020-10-08 13:48:30.0</td>\n",
       "      <td>0</td>\n",
       "      <td>NaN</td>\n",
       "      <td>2020-10-08 13:48:30.0</td>\n",
       "      <td>1</td>\n",
       "    </tr>\n",
       "    <tr>\n",
       "      <th>13</th>\n",
       "      <td>14</td>\n",
       "      <td>3</td>\n",
       "      <td>20.0</td>\n",
       "      <td>2</td>\n",
       "      <td>2020-10-08 13:48:30.0</td>\n",
       "      <td>0</td>\n",
       "      <td>NaN</td>\n",
       "      <td>2020-10-08 13:48:30.0</td>\n",
       "      <td>1</td>\n",
       "    </tr>\n",
       "    <tr>\n",
       "      <th>14</th>\n",
       "      <td>15</td>\n",
       "      <td>3</td>\n",
       "      <td>21.0</td>\n",
       "      <td>3</td>\n",
       "      <td>2020-10-08 13:48:30.0</td>\n",
       "      <td>0</td>\n",
       "      <td>NaN</td>\n",
       "      <td>2020-10-08 13:48:30.0</td>\n",
       "      <td>1</td>\n",
       "    </tr>\n",
       "    <tr>\n",
       "      <th>15</th>\n",
       "      <td>16</td>\n",
       "      <td>3</td>\n",
       "      <td>100.0</td>\n",
       "      <td>1</td>\n",
       "      <td>2020-10-08 13:48:30.0</td>\n",
       "      <td>0</td>\n",
       "      <td>NaN</td>\n",
       "      <td>2020-10-08 13:48:30.0</td>\n",
       "      <td>2</td>\n",
       "    </tr>\n",
       "    <tr>\n",
       "      <th>16</th>\n",
       "      <td>17</td>\n",
       "      <td>3</td>\n",
       "      <td>100.0</td>\n",
       "      <td>2</td>\n",
       "      <td>2020-10-08 13:48:30.0</td>\n",
       "      <td>0</td>\n",
       "      <td>NaN</td>\n",
       "      <td>2020-10-08 13:48:30.0</td>\n",
       "      <td>2</td>\n",
       "    </tr>\n",
       "    <tr>\n",
       "      <th>17</th>\n",
       "      <td>18</td>\n",
       "      <td>3</td>\n",
       "      <td>100.0</td>\n",
       "      <td>3</td>\n",
       "      <td>2020-10-08 13:48:30.0</td>\n",
       "      <td>0</td>\n",
       "      <td>NaN</td>\n",
       "      <td>2020-10-08 13:48:30.0</td>\n",
       "      <td>2</td>\n",
       "    </tr>\n",
       "    <tr>\n",
       "      <th>18</th>\n",
       "      <td>19</td>\n",
       "      <td>4</td>\n",
       "      <td>18.0</td>\n",
       "      <td>1</td>\n",
       "      <td>2020-10-08 13:57:23.0</td>\n",
       "      <td>0</td>\n",
       "      <td>NaN</td>\n",
       "      <td>2020-10-08 13:57:23.0</td>\n",
       "      <td>1</td>\n",
       "    </tr>\n",
       "    <tr>\n",
       "      <th>19</th>\n",
       "      <td>20</td>\n",
       "      <td>4</td>\n",
       "      <td>23.0</td>\n",
       "      <td>3</td>\n",
       "      <td>2020-10-08 13:57:23.0</td>\n",
       "      <td>0</td>\n",
       "      <td>NaN</td>\n",
       "      <td>2020-10-08 13:57:23.0</td>\n",
       "      <td>1</td>\n",
       "    </tr>\n",
       "  </tbody>\n",
       "</table>\n",
       "</div>"
      ],
      "text/plain": [
       "    effort_continuous_value_id  effort_id  value  effort_time_id  \\\n",
       "0                            1          1    3.0               1   \n",
       "1                            2          1    1.0               2   \n",
       "2                            3          1    1.0               3   \n",
       "3                            4          1    0.0               1   \n",
       "4                            5          1    0.0               2   \n",
       "5                            6          1   70.0               3   \n",
       "6                            7          2   22.0               1   \n",
       "7                            8          2   23.0               2   \n",
       "8                            9          2   25.0               3   \n",
       "9                           10          2    0.0               1   \n",
       "10                          11          2    0.0               2   \n",
       "11                          12          2   70.0               3   \n",
       "12                          13          3   19.0               1   \n",
       "13                          14          3   20.0               2   \n",
       "14                          15          3   21.0               3   \n",
       "15                          16          3  100.0               1   \n",
       "16                          17          3  100.0               2   \n",
       "17                          18          3  100.0               3   \n",
       "18                          19          4   18.0               1   \n",
       "19                          20          4   23.0               3   \n",
       "\n",
       "               created_at  has_changed  original_id             updated_at  \\\n",
       "0   2020-10-08 13:43:09.0            0          NaN  2020-10-08 13:43:09.0   \n",
       "1   2020-10-08 13:43:09.0            0          NaN  2020-10-08 13:43:09.0   \n",
       "2   2020-10-08 13:43:09.0            0          NaN  2020-10-08 13:43:09.0   \n",
       "3   2020-10-08 13:43:09.0            0          NaN  2020-10-08 13:43:09.0   \n",
       "4   2020-10-08 13:43:09.0            0          NaN  2020-10-08 13:43:09.0   \n",
       "5   2020-10-08 13:43:09.0            0          NaN  2020-10-08 13:43:09.0   \n",
       "6   2020-10-08 13:45:23.0            0          NaN  2020-10-08 13:45:23.0   \n",
       "7   2020-10-08 13:45:23.0            0          NaN  2020-10-08 13:45:23.0   \n",
       "8   2020-10-08 13:45:23.0            0          NaN  2020-10-08 13:45:23.0   \n",
       "9   2020-10-08 13:45:23.0            0          NaN  2020-10-08 13:45:23.0   \n",
       "10  2020-10-08 13:45:23.0            0          NaN  2020-10-08 13:45:23.0   \n",
       "11  2020-10-08 13:45:23.0            0          NaN  2020-10-08 13:45:23.0   \n",
       "12  2020-10-08 13:48:30.0            0          NaN  2020-10-08 13:48:30.0   \n",
       "13  2020-10-08 13:48:30.0            0          NaN  2020-10-08 13:48:30.0   \n",
       "14  2020-10-08 13:48:30.0            0          NaN  2020-10-08 13:48:30.0   \n",
       "15  2020-10-08 13:48:30.0            0          NaN  2020-10-08 13:48:30.0   \n",
       "16  2020-10-08 13:48:30.0            0          NaN  2020-10-08 13:48:30.0   \n",
       "17  2020-10-08 13:48:30.0            0          NaN  2020-10-08 13:48:30.0   \n",
       "18  2020-10-08 13:57:23.0            0          NaN  2020-10-08 13:57:23.0   \n",
       "19  2020-10-08 13:57:23.0            0          NaN  2020-10-08 13:57:23.0   \n",
       "\n",
       "    effort_variable_id  \n",
       "0                    1  \n",
       "1                    1  \n",
       "2                    1  \n",
       "3                    2  \n",
       "4                    2  \n",
       "5                    2  \n",
       "6                    1  \n",
       "7                    1  \n",
       "8                    1  \n",
       "9                    2  \n",
       "10                   2  \n",
       "11                   2  \n",
       "12                   1  \n",
       "13                   1  \n",
       "14                   1  \n",
       "15                   2  \n",
       "16                   2  \n",
       "17                   2  \n",
       "18                   1  \n",
       "19                   1  "
      ]
     },
     "execution_count": 17,
     "metadata": {},
     "output_type": "execute_result"
    }
   ],
   "source": [
    "effort_conti_values.head(20)"
   ]
  },
  {
   "cell_type": "markdown",
   "metadata": {
    "ExecuteTime": {
     "end_time": "2021-03-29T22:29:12.943391Z",
     "start_time": "2021-03-29T22:29:12.935392Z"
    }
   },
   "source": [
    "## Abrindo arquivo *Sumario*"
   ]
  },
  {
   "cell_type": "code",
   "execution_count": 19,
   "metadata": {
    "ExecuteTime": {
     "end_time": "2021-03-29T22:29:18.454716Z",
     "start_time": "2021-03-29T22:29:18.398722Z"
    }
   },
   "outputs": [],
   "source": [
    "effort_summaries = pd.read_csv ('volu/EFFORT_SUMMARIES_202103120951.csv')"
   ]
  },
  {
   "cell_type": "code",
   "execution_count": 20,
   "metadata": {
    "ExecuteTime": {
     "end_time": "2021-03-29T22:29:27.416420Z",
     "start_time": "2021-03-29T22:29:27.392422Z"
    }
   },
   "outputs": [
    {
     "data": {
      "text/plain": [
       "(11, 9)"
      ]
     },
     "execution_count": 20,
     "metadata": {},
     "output_type": "execute_result"
    }
   ],
   "source": [
    "effort_summaries.shape"
   ]
  },
  {
   "cell_type": "code",
   "execution_count": 21,
   "metadata": {
    "ExecuteTime": {
     "end_time": "2021-03-29T22:29:33.044331Z",
     "start_time": "2021-03-29T22:29:33.004349Z"
    }
   },
   "outputs": [
    {
     "data": {
      "text/html": [
       "<div>\n",
       "<style scoped>\n",
       "    .dataframe tbody tr th:only-of-type {\n",
       "        vertical-align: middle;\n",
       "    }\n",
       "\n",
       "    .dataframe tbody tr th {\n",
       "        vertical-align: top;\n",
       "    }\n",
       "\n",
       "    .dataframe thead th {\n",
       "        text-align: right;\n",
       "    }\n",
       "</style>\n",
       "<table border=\"1\" class=\"dataframe\">\n",
       "  <thead>\n",
       "    <tr style=\"text-align: right;\">\n",
       "      <th></th>\n",
       "      <th>effort_summary_id</th>\n",
       "      <th>effort_id</th>\n",
       "      <th>new_bands</th>\n",
       "      <th>recapture</th>\n",
       "      <th>unbanded</th>\n",
       "      <th>created_at</th>\n",
       "      <th>has_changed</th>\n",
       "      <th>original_id</th>\n",
       "      <th>updated_at</th>\n",
       "    </tr>\n",
       "  </thead>\n",
       "  <tbody>\n",
       "    <tr>\n",
       "      <th>0</th>\n",
       "      <td>1</td>\n",
       "      <td>1</td>\n",
       "      <td>9</td>\n",
       "      <td>1</td>\n",
       "      <td>0</td>\n",
       "      <td>2020-10-08 13:43:10.0</td>\n",
       "      <td>0</td>\n",
       "      <td>NaN</td>\n",
       "      <td>2020-10-08 13:43:10.0</td>\n",
       "    </tr>\n",
       "    <tr>\n",
       "      <th>1</th>\n",
       "      <td>2</td>\n",
       "      <td>2</td>\n",
       "      <td>16</td>\n",
       "      <td>1</td>\n",
       "      <td>4</td>\n",
       "      <td>2020-10-08 13:45:24.0</td>\n",
       "      <td>0</td>\n",
       "      <td>NaN</td>\n",
       "      <td>2020-10-08 13:45:24.0</td>\n",
       "    </tr>\n",
       "    <tr>\n",
       "      <th>2</th>\n",
       "      <td>3</td>\n",
       "      <td>3</td>\n",
       "      <td>8</td>\n",
       "      <td>0</td>\n",
       "      <td>3</td>\n",
       "      <td>2020-10-08 13:48:31.0</td>\n",
       "      <td>0</td>\n",
       "      <td>NaN</td>\n",
       "      <td>2020-10-08 13:48:31.0</td>\n",
       "    </tr>\n",
       "    <tr>\n",
       "      <th>3</th>\n",
       "      <td>4</td>\n",
       "      <td>4</td>\n",
       "      <td>11</td>\n",
       "      <td>0</td>\n",
       "      <td>13</td>\n",
       "      <td>2020-10-08 13:57:23.0</td>\n",
       "      <td>0</td>\n",
       "      <td>NaN</td>\n",
       "      <td>2020-10-08 13:57:23.0</td>\n",
       "    </tr>\n",
       "    <tr>\n",
       "      <th>4</th>\n",
       "      <td>5</td>\n",
       "      <td>5</td>\n",
       "      <td>12</td>\n",
       "      <td>0</td>\n",
       "      <td>6</td>\n",
       "      <td>2020-10-08 13:58:55.0</td>\n",
       "      <td>0</td>\n",
       "      <td>NaN</td>\n",
       "      <td>2020-10-08 13:58:55.0</td>\n",
       "    </tr>\n",
       "    <tr>\n",
       "      <th>5</th>\n",
       "      <td>6</td>\n",
       "      <td>6</td>\n",
       "      <td>13</td>\n",
       "      <td>0</td>\n",
       "      <td>1</td>\n",
       "      <td>2020-10-08 14:04:10.0</td>\n",
       "      <td>0</td>\n",
       "      <td>NaN</td>\n",
       "      <td>2020-10-08 14:04:10.0</td>\n",
       "    </tr>\n",
       "    <tr>\n",
       "      <th>6</th>\n",
       "      <td>7</td>\n",
       "      <td>7</td>\n",
       "      <td>14</td>\n",
       "      <td>0</td>\n",
       "      <td>3</td>\n",
       "      <td>2020-10-09 20:32:41.0</td>\n",
       "      <td>0</td>\n",
       "      <td>NaN</td>\n",
       "      <td>2020-10-09 20:32:41.0</td>\n",
       "    </tr>\n",
       "    <tr>\n",
       "      <th>7</th>\n",
       "      <td>8</td>\n",
       "      <td>8</td>\n",
       "      <td>7</td>\n",
       "      <td>6</td>\n",
       "      <td>2</td>\n",
       "      <td>2021-01-26 20:06:41.0</td>\n",
       "      <td>0</td>\n",
       "      <td>NaN</td>\n",
       "      <td>2021-01-26 20:06:41.0</td>\n",
       "    </tr>\n",
       "    <tr>\n",
       "      <th>8</th>\n",
       "      <td>9</td>\n",
       "      <td>9</td>\n",
       "      <td>5</td>\n",
       "      <td>2</td>\n",
       "      <td>1</td>\n",
       "      <td>2021-01-27 19:40:35.0</td>\n",
       "      <td>0</td>\n",
       "      <td>NaN</td>\n",
       "      <td>2021-01-27 19:40:35.0</td>\n",
       "    </tr>\n",
       "    <tr>\n",
       "      <th>9</th>\n",
       "      <td>10</td>\n",
       "      <td>10</td>\n",
       "      <td>8</td>\n",
       "      <td>7</td>\n",
       "      <td>3</td>\n",
       "      <td>2021-03-07 13:19:17.0</td>\n",
       "      <td>0</td>\n",
       "      <td>NaN</td>\n",
       "      <td>2021-03-07 13:19:17.0</td>\n",
       "    </tr>\n",
       "    <tr>\n",
       "      <th>10</th>\n",
       "      <td>11</td>\n",
       "      <td>11</td>\n",
       "      <td>7</td>\n",
       "      <td>5</td>\n",
       "      <td>1</td>\n",
       "      <td>2021-03-07 13:28:28.0</td>\n",
       "      <td>0</td>\n",
       "      <td>NaN</td>\n",
       "      <td>2021-03-07 13:28:28.0</td>\n",
       "    </tr>\n",
       "  </tbody>\n",
       "</table>\n",
       "</div>"
      ],
      "text/plain": [
       "    effort_summary_id  effort_id  new_bands  recapture  unbanded  \\\n",
       "0                   1          1          9          1         0   \n",
       "1                   2          2         16          1         4   \n",
       "2                   3          3          8          0         3   \n",
       "3                   4          4         11          0        13   \n",
       "4                   5          5         12          0         6   \n",
       "5                   6          6         13          0         1   \n",
       "6                   7          7         14          0         3   \n",
       "7                   8          8          7          6         2   \n",
       "8                   9          9          5          2         1   \n",
       "9                  10         10          8          7         3   \n",
       "10                 11         11          7          5         1   \n",
       "\n",
       "               created_at  has_changed  original_id             updated_at  \n",
       "0   2020-10-08 13:43:10.0            0          NaN  2020-10-08 13:43:10.0  \n",
       "1   2020-10-08 13:45:24.0            0          NaN  2020-10-08 13:45:24.0  \n",
       "2   2020-10-08 13:48:31.0            0          NaN  2020-10-08 13:48:31.0  \n",
       "3   2020-10-08 13:57:23.0            0          NaN  2020-10-08 13:57:23.0  \n",
       "4   2020-10-08 13:58:55.0            0          NaN  2020-10-08 13:58:55.0  \n",
       "5   2020-10-08 14:04:10.0            0          NaN  2020-10-08 14:04:10.0  \n",
       "6   2020-10-09 20:32:41.0            0          NaN  2020-10-09 20:32:41.0  \n",
       "7   2021-01-26 20:06:41.0            0          NaN  2021-01-26 20:06:41.0  \n",
       "8   2021-01-27 19:40:35.0            0          NaN  2021-01-27 19:40:35.0  \n",
       "9   2021-03-07 13:19:17.0            0          NaN  2021-03-07 13:19:17.0  \n",
       "10  2021-03-07 13:28:28.0            0          NaN  2021-03-07 13:28:28.0  "
      ]
     },
     "execution_count": 21,
     "metadata": {},
     "output_type": "execute_result"
    }
   ],
   "source": [
    "effort_summaries.head(15)"
   ]
  },
  {
   "cell_type": "markdown",
   "metadata": {},
   "source": [
    "## Abrindo arquivo *Effort Categorical Values*"
   ]
  },
  {
   "cell_type": "code",
   "execution_count": 22,
   "metadata": {
    "ExecuteTime": {
     "end_time": "2021-03-29T22:29:47.123736Z",
     "start_time": "2021-03-29T22:29:47.091739Z"
    }
   },
   "outputs": [],
   "source": [
    "effort_time = pd.read_csv ('volu/EFFORT_TIME_202103120951.csv')"
   ]
  },
  {
   "cell_type": "code",
   "execution_count": 23,
   "metadata": {
    "ExecuteTime": {
     "end_time": "2021-03-29T22:29:59.078013Z",
     "start_time": "2021-03-29T22:29:59.062014Z"
    }
   },
   "outputs": [
    {
     "data": {
      "text/plain": [
       "effort_time_id      3\n",
       "description         3\n",
       "portuguese_label    3\n",
       "created_at          3\n",
       "has_changed         3\n",
       "original_id         0\n",
       "updated_at          3\n",
       "dtype: int64"
      ]
     },
     "execution_count": 23,
     "metadata": {},
     "output_type": "execute_result"
    }
   ],
   "source": [
    "effort_time.count()"
   ]
  },
  {
   "cell_type": "code",
   "execution_count": 24,
   "metadata": {
    "ExecuteTime": {
     "end_time": "2021-03-29T22:30:08.865774Z",
     "start_time": "2021-03-29T22:30:08.849853Z"
    }
   },
   "outputs": [
    {
     "data": {
      "text/plain": [
       "(3, 7)"
      ]
     },
     "execution_count": 24,
     "metadata": {},
     "output_type": "execute_result"
    }
   ],
   "source": [
    "effort_time.shape"
   ]
  },
  {
   "cell_type": "code",
   "execution_count": 25,
   "metadata": {
    "ExecuteTime": {
     "end_time": "2021-03-29T22:30:13.540353Z",
     "start_time": "2021-03-29T22:30:13.516355Z"
    }
   },
   "outputs": [
    {
     "data": {
      "text/html": [
       "<div>\n",
       "<style scoped>\n",
       "    .dataframe tbody tr th:only-of-type {\n",
       "        vertical-align: middle;\n",
       "    }\n",
       "\n",
       "    .dataframe tbody tr th {\n",
       "        vertical-align: top;\n",
       "    }\n",
       "\n",
       "    .dataframe thead th {\n",
       "        text-align: right;\n",
       "    }\n",
       "</style>\n",
       "<table border=\"1\" class=\"dataframe\">\n",
       "  <thead>\n",
       "    <tr style=\"text-align: right;\">\n",
       "      <th></th>\n",
       "      <th>effort_time_id</th>\n",
       "      <th>description</th>\n",
       "      <th>portuguese_label</th>\n",
       "      <th>created_at</th>\n",
       "      <th>has_changed</th>\n",
       "      <th>original_id</th>\n",
       "      <th>updated_at</th>\n",
       "    </tr>\n",
       "  </thead>\n",
       "  <tbody>\n",
       "    <tr>\n",
       "      <th>0</th>\n",
       "      <td>1</td>\n",
       "      <td>Start of banding morning</td>\n",
       "      <td>Começo</td>\n",
       "      <td>2020-04-09 15:21:07.0</td>\n",
       "      <td>0</td>\n",
       "      <td>NaN</td>\n",
       "      <td>2020-04-09 15:21:07.0</td>\n",
       "    </tr>\n",
       "    <tr>\n",
       "      <th>1</th>\n",
       "      <td>2</td>\n",
       "      <td>Middle of banding morning</td>\n",
       "      <td>Meio</td>\n",
       "      <td>2020-04-09 15:24:34.0</td>\n",
       "      <td>0</td>\n",
       "      <td>NaN</td>\n",
       "      <td>2020-04-09 15:24:34.0</td>\n",
       "    </tr>\n",
       "    <tr>\n",
       "      <th>2</th>\n",
       "      <td>3</td>\n",
       "      <td>At the end of bandong morning</td>\n",
       "      <td>fim</td>\n",
       "      <td>2020-04-17 15:24:34.0</td>\n",
       "      <td>0</td>\n",
       "      <td>NaN</td>\n",
       "      <td>2020-04-17 15:24:34.0</td>\n",
       "    </tr>\n",
       "  </tbody>\n",
       "</table>\n",
       "</div>"
      ],
      "text/plain": [
       "   effort_time_id                    description portuguese_label  \\\n",
       "0               1       Start of banding morning           Começo   \n",
       "1               2      Middle of banding morning             Meio   \n",
       "2               3  At the end of bandong morning              fim   \n",
       "\n",
       "              created_at  has_changed  original_id             updated_at  \n",
       "0  2020-04-09 15:21:07.0            0          NaN  2020-04-09 15:21:07.0  \n",
       "1  2020-04-09 15:24:34.0            0          NaN  2020-04-09 15:24:34.0  \n",
       "2  2020-04-17 15:24:34.0            0          NaN  2020-04-17 15:24:34.0  "
      ]
     },
     "execution_count": 25,
     "metadata": {},
     "output_type": "execute_result"
    }
   ],
   "source": [
    "effort_time.head()"
   ]
  },
  {
   "cell_type": "markdown",
   "metadata": {
    "ExecuteTime": {
     "end_time": "2021-03-29T22:30:18.917091Z",
     "start_time": "2021-03-29T22:30:18.901091Z"
    }
   },
   "source": [
    "## Abrindo arquivo *Effort Variable Register*"
   ]
  },
  {
   "cell_type": "code",
   "execution_count": 28,
   "metadata": {
    "ExecuteTime": {
     "end_time": "2021-03-29T22:31:47.615404Z",
     "start_time": "2021-03-29T22:31:47.503415Z"
    }
   },
   "outputs": [],
   "source": [
    "effort_variable_register = pd.read_csv ('volu/EFFORT_VARIABLE_REGISTER_202103120951.csv')"
   ]
  },
  {
   "cell_type": "code",
   "execution_count": 29,
   "metadata": {
    "ExecuteTime": {
     "end_time": "2021-03-29T22:31:51.136386Z",
     "start_time": "2021-03-29T22:31:51.112387Z"
    }
   },
   "outputs": [
    {
     "data": {
      "text/plain": [
       "effort_variable_id    5\n",
       "name                  5\n",
       "description           5\n",
       "portuguese_label      5\n",
       "field_size            5\n",
       "type                  5\n",
       "created_at            5\n",
       "has_changed           5\n",
       "original_id           0\n",
       "updated_at            5\n",
       "unit                  2\n",
       "dtype: int64"
      ]
     },
     "execution_count": 29,
     "metadata": {},
     "output_type": "execute_result"
    }
   ],
   "source": [
    "effort_variable_register.count()"
   ]
  },
  {
   "cell_type": "code",
   "execution_count": 30,
   "metadata": {
    "ExecuteTime": {
     "end_time": "2021-03-29T22:51:47.550191Z",
     "start_time": "2021-03-29T22:51:47.515057Z"
    }
   },
   "outputs": [
    {
     "name": "stdout",
     "output_type": "stream",
     "text": [
      "<class 'pandas.core.frame.DataFrame'>\n",
      "RangeIndex: 5 entries, 0 to 4\n",
      "Data columns (total 11 columns):\n",
      " #   Column              Non-Null Count  Dtype  \n",
      "---  ------              --------------  -----  \n",
      " 0   effort_variable_id  5 non-null      int64  \n",
      " 1   name                5 non-null      object \n",
      " 2   description         5 non-null      object \n",
      " 3   portuguese_label    5 non-null      object \n",
      " 4   field_size          5 non-null      object \n",
      " 5   type                5 non-null      object \n",
      " 6   created_at          5 non-null      object \n",
      " 7   has_changed         5 non-null      int64  \n",
      " 8   original_id         0 non-null      float64\n",
      " 9   updated_at          5 non-null      object \n",
      " 10  unit                2 non-null      object \n",
      "dtypes: float64(1), int64(2), object(8)\n",
      "memory usage: 568.0+ bytes\n"
     ]
    }
   ],
   "source": [
    "effort_variable_register.info()"
   ]
  },
  {
   "cell_type": "code",
   "execution_count": 31,
   "metadata": {
    "ExecuteTime": {
     "end_time": "2021-03-29T22:51:57.563232Z",
     "start_time": "2021-03-29T22:51:57.531235Z"
    }
   },
   "outputs": [
    {
     "data": {
      "text/html": [
       "<div>\n",
       "<style scoped>\n",
       "    .dataframe tbody tr th:only-of-type {\n",
       "        vertical-align: middle;\n",
       "    }\n",
       "\n",
       "    .dataframe tbody tr th {\n",
       "        vertical-align: top;\n",
       "    }\n",
       "\n",
       "    .dataframe thead th {\n",
       "        text-align: right;\n",
       "    }\n",
       "</style>\n",
       "<table border=\"1\" class=\"dataframe\">\n",
       "  <thead>\n",
       "    <tr style=\"text-align: right;\">\n",
       "      <th></th>\n",
       "      <th>effort_variable_id</th>\n",
       "      <th>name</th>\n",
       "      <th>description</th>\n",
       "      <th>portuguese_label</th>\n",
       "      <th>field_size</th>\n",
       "      <th>type</th>\n",
       "      <th>created_at</th>\n",
       "      <th>has_changed</th>\n",
       "      <th>original_id</th>\n",
       "      <th>updated_at</th>\n",
       "      <th>unit</th>\n",
       "    </tr>\n",
       "  </thead>\n",
       "  <tbody>\n",
       "    <tr>\n",
       "      <th>0</th>\n",
       "      <td>1</td>\n",
       "      <td>temperature</td>\n",
       "      <td>“”</td>\n",
       "      <td>Temperatura</td>\n",
       "      <td>small</td>\n",
       "      <td>cont</td>\n",
       "      <td>2020-04-17 15:24:34.0</td>\n",
       "      <td>0</td>\n",
       "      <td>NaN</td>\n",
       "      <td>2020-04-17 15:24:34.0</td>\n",
       "      <td>celsius</td>\n",
       "    </tr>\n",
       "    <tr>\n",
       "      <th>1</th>\n",
       "      <td>2</td>\n",
       "      <td>cloud_cover</td>\n",
       "      <td>“”</td>\n",
       "      <td>Cobertura de Nuvens</td>\n",
       "      <td>medium</td>\n",
       "      <td>cont</td>\n",
       "      <td>2020-04-17 15:24:34.0</td>\n",
       "      <td>0</td>\n",
       "      <td>NaN</td>\n",
       "      <td>2020-04-17 15:24:34.0</td>\n",
       "      <td>percentage</td>\n",
       "    </tr>\n",
       "    <tr>\n",
       "      <th>2</th>\n",
       "      <td>3</td>\n",
       "      <td>wind</td>\n",
       "      <td>“”</td>\n",
       "      <td>Vento</td>\n",
       "      <td>small</td>\n",
       "      <td>val</td>\n",
       "      <td>2020-04-17 15:24:34.0</td>\n",
       "      <td>0</td>\n",
       "      <td>NaN</td>\n",
       "      <td>2020-04-17 15:24:34.0</td>\n",
       "      <td>NaN</td>\n",
       "    </tr>\n",
       "    <tr>\n",
       "      <th>3</th>\n",
       "      <td>4</td>\n",
       "      <td>pluviosity</td>\n",
       "      <td>“”</td>\n",
       "      <td>Chuva</td>\n",
       "      <td>small</td>\n",
       "      <td>val</td>\n",
       "      <td>2020-04-17 15:24:34.0</td>\n",
       "      <td>0</td>\n",
       "      <td>NaN</td>\n",
       "      <td>2020-04-17 15:24:34.0</td>\n",
       "      <td>NaN</td>\n",
       "    </tr>\n",
       "    <tr>\n",
       "      <th>4</th>\n",
       "      <td>5</td>\n",
       "      <td>na_register</td>\n",
       "      <td>\"\"</td>\n",
       "      <td>NA Register</td>\n",
       "      <td>small</td>\n",
       "      <td>val</td>\n",
       "      <td>2020-04-17 15:24:55.0</td>\n",
       "      <td>0</td>\n",
       "      <td>NaN</td>\n",
       "      <td>2020-04-17 15:24:55.0</td>\n",
       "      <td>NaN</td>\n",
       "    </tr>\n",
       "  </tbody>\n",
       "</table>\n",
       "</div>"
      ],
      "text/plain": [
       "   effort_variable_id         name description     portuguese_label  \\\n",
       "0                   1  temperature          “”          Temperatura   \n",
       "1                   2  cloud_cover          “”  Cobertura de Nuvens   \n",
       "2                   3         wind          “”                Vento   \n",
       "3                   4   pluviosity          “”                Chuva   \n",
       "4                   5  na_register          \"\"          NA Register   \n",
       "\n",
       "  field_size  type             created_at  has_changed  original_id  \\\n",
       "0      small  cont  2020-04-17 15:24:34.0            0          NaN   \n",
       "1     medium  cont  2020-04-17 15:24:34.0            0          NaN   \n",
       "2      small   val  2020-04-17 15:24:34.0            0          NaN   \n",
       "3      small   val  2020-04-17 15:24:34.0            0          NaN   \n",
       "4      small   val  2020-04-17 15:24:55.0            0          NaN   \n",
       "\n",
       "              updated_at        unit  \n",
       "0  2020-04-17 15:24:34.0     celsius  \n",
       "1  2020-04-17 15:24:34.0  percentage  \n",
       "2  2020-04-17 15:24:34.0         NaN  \n",
       "3  2020-04-17 15:24:34.0         NaN  \n",
       "4  2020-04-17 15:24:55.0         NaN  "
      ]
     },
     "execution_count": 31,
     "metadata": {},
     "output_type": "execute_result"
    }
   ],
   "source": [
    "effort_variable_register.head()"
   ]
  },
  {
   "cell_type": "markdown",
   "metadata": {
    "ExecuteTime": {
     "end_time": "2021-03-29T22:52:04.680775Z",
     "start_time": "2021-03-29T22:52:04.660540Z"
    }
   },
   "source": [
    "## Abrindo arquivo *NET Effort*"
   ]
  },
  {
   "cell_type": "code",
   "execution_count": 33,
   "metadata": {
    "ExecuteTime": {
     "end_time": "2021-03-29T22:52:10.611954Z",
     "start_time": "2021-03-29T22:52:10.555216Z"
    }
   },
   "outputs": [],
   "source": [
    "effort_net = pd.read_csv ('volu/NET_EFFORT_202103120951.csv')"
   ]
  },
  {
   "cell_type": "code",
   "execution_count": 34,
   "metadata": {
    "ExecuteTime": {
     "end_time": "2021-03-29T22:52:16.687076Z",
     "start_time": "2021-03-29T22:52:16.663078Z"
    }
   },
   "outputs": [
    {
     "name": "stdout",
     "output_type": "stream",
     "text": [
      "<class 'pandas.core.frame.DataFrame'>\n",
      "RangeIndex: 120 entries, 0 to 119\n",
      "Data columns (total 7 columns):\n",
      " #   Column       Non-Null Count  Dtype  \n",
      "---  ------       --------------  -----  \n",
      " 0   net_eff_id   120 non-null    int64  \n",
      " 1   effort_id    120 non-null    int64  \n",
      " 2   net_id       120 non-null    int64  \n",
      " 3   created_at   120 non-null    object \n",
      " 4   has_changed  120 non-null    int64  \n",
      " 5   original_id  0 non-null      float64\n",
      " 6   updated_at   120 non-null    object \n",
      "dtypes: float64(1), int64(4), object(2)\n",
      "memory usage: 6.7+ KB\n"
     ]
    }
   ],
   "source": [
    "effort_net.info()"
   ]
  },
  {
   "cell_type": "code",
   "execution_count": 35,
   "metadata": {
    "ExecuteTime": {
     "end_time": "2021-03-29T22:52:28.414054Z",
     "start_time": "2021-03-29T22:52:28.406054Z"
    }
   },
   "outputs": [
    {
     "data": {
      "text/plain": [
       "(120, 7)"
      ]
     },
     "execution_count": 35,
     "metadata": {},
     "output_type": "execute_result"
    }
   ],
   "source": [
    "effort_net.shape"
   ]
  },
  {
   "cell_type": "code",
   "execution_count": 36,
   "metadata": {
    "ExecuteTime": {
     "end_time": "2021-03-29T22:52:34.910575Z",
     "start_time": "2021-03-29T22:52:34.867012Z"
    }
   },
   "outputs": [
    {
     "data": {
      "text/html": [
       "<div>\n",
       "<style scoped>\n",
       "    .dataframe tbody tr th:only-of-type {\n",
       "        vertical-align: middle;\n",
       "    }\n",
       "\n",
       "    .dataframe tbody tr th {\n",
       "        vertical-align: top;\n",
       "    }\n",
       "\n",
       "    .dataframe thead th {\n",
       "        text-align: right;\n",
       "    }\n",
       "</style>\n",
       "<table border=\"1\" class=\"dataframe\">\n",
       "  <thead>\n",
       "    <tr style=\"text-align: right;\">\n",
       "      <th></th>\n",
       "      <th>net_eff_id</th>\n",
       "      <th>effort_id</th>\n",
       "      <th>net_id</th>\n",
       "      <th>created_at</th>\n",
       "      <th>has_changed</th>\n",
       "      <th>original_id</th>\n",
       "      <th>updated_at</th>\n",
       "    </tr>\n",
       "  </thead>\n",
       "  <tbody>\n",
       "    <tr>\n",
       "      <th>0</th>\n",
       "      <td>1</td>\n",
       "      <td>1</td>\n",
       "      <td>35</td>\n",
       "      <td>2020-10-08 13:43:08.0</td>\n",
       "      <td>0</td>\n",
       "      <td>NaN</td>\n",
       "      <td>2020-10-08 13:43:08.0</td>\n",
       "    </tr>\n",
       "    <tr>\n",
       "      <th>1</th>\n",
       "      <td>2</td>\n",
       "      <td>1</td>\n",
       "      <td>36</td>\n",
       "      <td>2020-10-08 13:43:08.0</td>\n",
       "      <td>0</td>\n",
       "      <td>NaN</td>\n",
       "      <td>2020-10-08 13:43:08.0</td>\n",
       "    </tr>\n",
       "    <tr>\n",
       "      <th>2</th>\n",
       "      <td>3</td>\n",
       "      <td>1</td>\n",
       "      <td>37</td>\n",
       "      <td>2020-10-08 13:43:08.0</td>\n",
       "      <td>0</td>\n",
       "      <td>NaN</td>\n",
       "      <td>2020-10-08 13:43:08.0</td>\n",
       "    </tr>\n",
       "    <tr>\n",
       "      <th>3</th>\n",
       "      <td>4</td>\n",
       "      <td>1</td>\n",
       "      <td>38</td>\n",
       "      <td>2020-10-08 13:43:08.0</td>\n",
       "      <td>0</td>\n",
       "      <td>NaN</td>\n",
       "      <td>2020-10-08 13:43:08.0</td>\n",
       "    </tr>\n",
       "    <tr>\n",
       "      <th>4</th>\n",
       "      <td>5</td>\n",
       "      <td>2</td>\n",
       "      <td>39</td>\n",
       "      <td>2020-10-08 13:45:20.0</td>\n",
       "      <td>0</td>\n",
       "      <td>NaN</td>\n",
       "      <td>2020-10-08 13:45:20.0</td>\n",
       "    </tr>\n",
       "    <tr>\n",
       "      <th>5</th>\n",
       "      <td>6</td>\n",
       "      <td>2</td>\n",
       "      <td>40</td>\n",
       "      <td>2020-10-08 13:45:20.0</td>\n",
       "      <td>0</td>\n",
       "      <td>NaN</td>\n",
       "      <td>2020-10-08 13:45:20.0</td>\n",
       "    </tr>\n",
       "    <tr>\n",
       "      <th>6</th>\n",
       "      <td>7</td>\n",
       "      <td>2</td>\n",
       "      <td>41</td>\n",
       "      <td>2020-10-08 13:45:21.0</td>\n",
       "      <td>0</td>\n",
       "      <td>NaN</td>\n",
       "      <td>2020-10-08 13:45:21.0</td>\n",
       "    </tr>\n",
       "    <tr>\n",
       "      <th>7</th>\n",
       "      <td>8</td>\n",
       "      <td>2</td>\n",
       "      <td>42</td>\n",
       "      <td>2020-10-08 13:45:21.0</td>\n",
       "      <td>0</td>\n",
       "      <td>NaN</td>\n",
       "      <td>2020-10-08 13:45:21.0</td>\n",
       "    </tr>\n",
       "    <tr>\n",
       "      <th>8</th>\n",
       "      <td>9</td>\n",
       "      <td>2</td>\n",
       "      <td>45</td>\n",
       "      <td>2020-10-08 13:45:21.0</td>\n",
       "      <td>0</td>\n",
       "      <td>NaN</td>\n",
       "      <td>2020-10-08 13:45:21.0</td>\n",
       "    </tr>\n",
       "    <tr>\n",
       "      <th>9</th>\n",
       "      <td>10</td>\n",
       "      <td>2</td>\n",
       "      <td>46</td>\n",
       "      <td>2020-10-08 13:45:21.0</td>\n",
       "      <td>0</td>\n",
       "      <td>NaN</td>\n",
       "      <td>2020-10-08 13:45:21.0</td>\n",
       "    </tr>\n",
       "  </tbody>\n",
       "</table>\n",
       "</div>"
      ],
      "text/plain": [
       "   net_eff_id  effort_id  net_id             created_at  has_changed  \\\n",
       "0           1          1      35  2020-10-08 13:43:08.0            0   \n",
       "1           2          1      36  2020-10-08 13:43:08.0            0   \n",
       "2           3          1      37  2020-10-08 13:43:08.0            0   \n",
       "3           4          1      38  2020-10-08 13:43:08.0            0   \n",
       "4           5          2      39  2020-10-08 13:45:20.0            0   \n",
       "5           6          2      40  2020-10-08 13:45:20.0            0   \n",
       "6           7          2      41  2020-10-08 13:45:21.0            0   \n",
       "7           8          2      42  2020-10-08 13:45:21.0            0   \n",
       "8           9          2      45  2020-10-08 13:45:21.0            0   \n",
       "9          10          2      46  2020-10-08 13:45:21.0            0   \n",
       "\n",
       "   original_id             updated_at  \n",
       "0          NaN  2020-10-08 13:43:08.0  \n",
       "1          NaN  2020-10-08 13:43:08.0  \n",
       "2          NaN  2020-10-08 13:43:08.0  \n",
       "3          NaN  2020-10-08 13:43:08.0  \n",
       "4          NaN  2020-10-08 13:45:20.0  \n",
       "5          NaN  2020-10-08 13:45:20.0  \n",
       "6          NaN  2020-10-08 13:45:21.0  \n",
       "7          NaN  2020-10-08 13:45:21.0  \n",
       "8          NaN  2020-10-08 13:45:21.0  \n",
       "9          NaN  2020-10-08 13:45:21.0  "
      ]
     },
     "execution_count": 36,
     "metadata": {},
     "output_type": "execute_result"
    }
   ],
   "source": [
    "effort_net.head(10)"
   ]
  },
  {
   "cell_type": "markdown",
   "metadata": {},
   "source": [
    "## Abrindo arquivo *NET OC Effort*"
   ]
  },
  {
   "cell_type": "code",
   "execution_count": 37,
   "metadata": {
    "ExecuteTime": {
     "end_time": "2021-03-29T22:53:31.839898Z",
     "start_time": "2021-03-29T22:53:31.793450Z"
    }
   },
   "outputs": [],
   "source": [
    "effort_net_oc = pd.read_csv ('volu/NET_OC_202103120951.csv')"
   ]
  },
  {
   "cell_type": "code",
   "execution_count": 38,
   "metadata": {
    "ExecuteTime": {
     "end_time": "2021-03-29T22:53:33.538519Z",
     "start_time": "2021-03-29T22:53:33.522520Z"
    }
   },
   "outputs": [
    {
     "data": {
      "text/plain": [
       "(120, 8)"
      ]
     },
     "execution_count": 38,
     "metadata": {},
     "output_type": "execute_result"
    }
   ],
   "source": [
    "effort_net_oc.shape"
   ]
  },
  {
   "cell_type": "code",
   "execution_count": 39,
   "metadata": {
    "ExecuteTime": {
     "end_time": "2021-03-29T22:55:49.009537Z",
     "start_time": "2021-03-29T22:55:48.985539Z"
    }
   },
   "outputs": [
    {
     "name": "stdout",
     "output_type": "stream",
     "text": [
      "<class 'pandas.core.frame.DataFrame'>\n",
      "RangeIndex: 120 entries, 0 to 119\n",
      "Data columns (total 8 columns):\n",
      " #   Column       Non-Null Count  Dtype  \n",
      "---  ------       --------------  -----  \n",
      " 0   net_oc_id    120 non-null    int64  \n",
      " 1   open_time    120 non-null    object \n",
      " 2   close_time   120 non-null    object \n",
      " 3   created_at   120 non-null    object \n",
      " 4   has_changed  120 non-null    int64  \n",
      " 5   original_id  0 non-null      float64\n",
      " 6   net_eff_id   120 non-null    int64  \n",
      " 7   updated_at   120 non-null    object \n",
      "dtypes: float64(1), int64(3), object(4)\n",
      "memory usage: 7.6+ KB\n"
     ]
    }
   ],
   "source": [
    "effort_net_oc.info()"
   ]
  },
  {
   "cell_type": "code",
   "execution_count": 40,
   "metadata": {
    "ExecuteTime": {
     "end_time": "2021-03-29T22:55:57.867482Z",
     "start_time": "2021-03-29T22:55:57.831009Z"
    }
   },
   "outputs": [
    {
     "data": {
      "text/html": [
       "<div>\n",
       "<style scoped>\n",
       "    .dataframe tbody tr th:only-of-type {\n",
       "        vertical-align: middle;\n",
       "    }\n",
       "\n",
       "    .dataframe tbody tr th {\n",
       "        vertical-align: top;\n",
       "    }\n",
       "\n",
       "    .dataframe thead th {\n",
       "        text-align: right;\n",
       "    }\n",
       "</style>\n",
       "<table border=\"1\" class=\"dataframe\">\n",
       "  <thead>\n",
       "    <tr style=\"text-align: right;\">\n",
       "      <th></th>\n",
       "      <th>net_oc_id</th>\n",
       "      <th>open_time</th>\n",
       "      <th>close_time</th>\n",
       "      <th>created_at</th>\n",
       "      <th>has_changed</th>\n",
       "      <th>original_id</th>\n",
       "      <th>net_eff_id</th>\n",
       "      <th>updated_at</th>\n",
       "    </tr>\n",
       "  </thead>\n",
       "  <tbody>\n",
       "    <tr>\n",
       "      <th>0</th>\n",
       "      <td>1</td>\n",
       "      <td>1970-01-01 05:20:00.0</td>\n",
       "      <td>1970-01-01 10:20:00.0</td>\n",
       "      <td>2020-10-08 13:43:08.0</td>\n",
       "      <td>0</td>\n",
       "      <td>NaN</td>\n",
       "      <td>1</td>\n",
       "      <td>2020-10-08 13:43:08.0</td>\n",
       "    </tr>\n",
       "    <tr>\n",
       "      <th>1</th>\n",
       "      <td>2</td>\n",
       "      <td>1970-01-01 05:20:00.0</td>\n",
       "      <td>1970-01-01 10:20:00.0</td>\n",
       "      <td>2020-10-08 13:43:08.0</td>\n",
       "      <td>0</td>\n",
       "      <td>NaN</td>\n",
       "      <td>2</td>\n",
       "      <td>2020-10-08 13:43:08.0</td>\n",
       "    </tr>\n",
       "    <tr>\n",
       "      <th>2</th>\n",
       "      <td>3</td>\n",
       "      <td>1970-01-01 05:20:00.0</td>\n",
       "      <td>1970-01-01 10:20:00.0</td>\n",
       "      <td>2020-10-08 13:43:08.0</td>\n",
       "      <td>0</td>\n",
       "      <td>NaN</td>\n",
       "      <td>3</td>\n",
       "      <td>2020-10-08 13:43:08.0</td>\n",
       "    </tr>\n",
       "    <tr>\n",
       "      <th>3</th>\n",
       "      <td>4</td>\n",
       "      <td>1970-01-01 05:20:00.0</td>\n",
       "      <td>1970-01-01 10:20:00.0</td>\n",
       "      <td>2020-10-08 13:43:08.0</td>\n",
       "      <td>0</td>\n",
       "      <td>NaN</td>\n",
       "      <td>4</td>\n",
       "      <td>2020-10-08 13:43:08.0</td>\n",
       "    </tr>\n",
       "    <tr>\n",
       "      <th>4</th>\n",
       "      <td>5</td>\n",
       "      <td>1970-01-01 05:20:00.0</td>\n",
       "      <td>1970-01-01 10:20:00.0</td>\n",
       "      <td>2020-10-08 13:45:22.0</td>\n",
       "      <td>0</td>\n",
       "      <td>NaN</td>\n",
       "      <td>5</td>\n",
       "      <td>2020-10-08 13:45:22.0</td>\n",
       "    </tr>\n",
       "    <tr>\n",
       "      <th>5</th>\n",
       "      <td>6</td>\n",
       "      <td>1970-01-01 05:20:00.0</td>\n",
       "      <td>1970-01-01 10:20:00.0</td>\n",
       "      <td>2020-10-08 13:45:22.0</td>\n",
       "      <td>0</td>\n",
       "      <td>NaN</td>\n",
       "      <td>6</td>\n",
       "      <td>2020-10-08 13:45:22.0</td>\n",
       "    </tr>\n",
       "    <tr>\n",
       "      <th>6</th>\n",
       "      <td>7</td>\n",
       "      <td>1970-01-01 05:20:00.0</td>\n",
       "      <td>1970-01-01 10:20:00.0</td>\n",
       "      <td>2020-10-08 13:45:22.0</td>\n",
       "      <td>0</td>\n",
       "      <td>NaN</td>\n",
       "      <td>9</td>\n",
       "      <td>2020-10-08 13:45:22.0</td>\n",
       "    </tr>\n",
       "    <tr>\n",
       "      <th>7</th>\n",
       "      <td>8</td>\n",
       "      <td>1970-01-01 05:20:00.0</td>\n",
       "      <td>1970-01-01 10:20:00.0</td>\n",
       "      <td>2020-10-08 13:45:22.0</td>\n",
       "      <td>0</td>\n",
       "      <td>NaN</td>\n",
       "      <td>10</td>\n",
       "      <td>2020-10-08 13:45:22.0</td>\n",
       "    </tr>\n",
       "    <tr>\n",
       "      <th>8</th>\n",
       "      <td>9</td>\n",
       "      <td>1970-01-01 05:20:00.0</td>\n",
       "      <td>1970-01-01 10:20:00.0</td>\n",
       "      <td>2020-10-08 13:45:22.0</td>\n",
       "      <td>0</td>\n",
       "      <td>NaN</td>\n",
       "      <td>11</td>\n",
       "      <td>2020-10-08 13:45:22.0</td>\n",
       "    </tr>\n",
       "    <tr>\n",
       "      <th>9</th>\n",
       "      <td>10</td>\n",
       "      <td>1970-01-01 05:20:00.0</td>\n",
       "      <td>1970-01-01 10:20:00.0</td>\n",
       "      <td>2020-10-08 13:45:22.0</td>\n",
       "      <td>0</td>\n",
       "      <td>NaN</td>\n",
       "      <td>7</td>\n",
       "      <td>2020-10-08 13:45:22.0</td>\n",
       "    </tr>\n",
       "  </tbody>\n",
       "</table>\n",
       "</div>"
      ],
      "text/plain": [
       "   net_oc_id              open_time             close_time  \\\n",
       "0          1  1970-01-01 05:20:00.0  1970-01-01 10:20:00.0   \n",
       "1          2  1970-01-01 05:20:00.0  1970-01-01 10:20:00.0   \n",
       "2          3  1970-01-01 05:20:00.0  1970-01-01 10:20:00.0   \n",
       "3          4  1970-01-01 05:20:00.0  1970-01-01 10:20:00.0   \n",
       "4          5  1970-01-01 05:20:00.0  1970-01-01 10:20:00.0   \n",
       "5          6  1970-01-01 05:20:00.0  1970-01-01 10:20:00.0   \n",
       "6          7  1970-01-01 05:20:00.0  1970-01-01 10:20:00.0   \n",
       "7          8  1970-01-01 05:20:00.0  1970-01-01 10:20:00.0   \n",
       "8          9  1970-01-01 05:20:00.0  1970-01-01 10:20:00.0   \n",
       "9         10  1970-01-01 05:20:00.0  1970-01-01 10:20:00.0   \n",
       "\n",
       "              created_at  has_changed  original_id  net_eff_id  \\\n",
       "0  2020-10-08 13:43:08.0            0          NaN           1   \n",
       "1  2020-10-08 13:43:08.0            0          NaN           2   \n",
       "2  2020-10-08 13:43:08.0            0          NaN           3   \n",
       "3  2020-10-08 13:43:08.0            0          NaN           4   \n",
       "4  2020-10-08 13:45:22.0            0          NaN           5   \n",
       "5  2020-10-08 13:45:22.0            0          NaN           6   \n",
       "6  2020-10-08 13:45:22.0            0          NaN           9   \n",
       "7  2020-10-08 13:45:22.0            0          NaN          10   \n",
       "8  2020-10-08 13:45:22.0            0          NaN          11   \n",
       "9  2020-10-08 13:45:22.0            0          NaN           7   \n",
       "\n",
       "              updated_at  \n",
       "0  2020-10-08 13:43:08.0  \n",
       "1  2020-10-08 13:43:08.0  \n",
       "2  2020-10-08 13:43:08.0  \n",
       "3  2020-10-08 13:43:08.0  \n",
       "4  2020-10-08 13:45:22.0  \n",
       "5  2020-10-08 13:45:22.0  \n",
       "6  2020-10-08 13:45:22.0  \n",
       "7  2020-10-08 13:45:22.0  \n",
       "8  2020-10-08 13:45:22.0  \n",
       "9  2020-10-08 13:45:22.0  "
      ]
     },
     "execution_count": 40,
     "metadata": {},
     "output_type": "execute_result"
    }
   ],
   "source": [
    "effort_net_oc.head(10)"
   ]
  },
  {
   "cell_type": "markdown",
   "metadata": {
    "ExecuteTime": {
     "end_time": "2021-03-29T22:56:33.740193Z",
     "start_time": "2021-03-29T22:56:33.724194Z"
    }
   },
   "source": [
    "## Abrindo arquivo *NET Register*"
   ]
  },
  {
   "cell_type": "code",
   "execution_count": 42,
   "metadata": {
    "ExecuteTime": {
     "end_time": "2021-03-29T22:56:41.197316Z",
     "start_time": "2021-03-29T22:56:41.133321Z"
    }
   },
   "outputs": [],
   "source": [
    "effort_net_register = pd.read_csv ('volu/NET_REGISTER_202103120952.csv')"
   ]
  },
  {
   "cell_type": "code",
   "execution_count": 43,
   "metadata": {
    "ExecuteTime": {
     "end_time": "2021-03-29T22:56:47.701128Z",
     "start_time": "2021-03-29T22:56:47.677128Z"
    }
   },
   "outputs": [
    {
     "name": "stdout",
     "output_type": "stream",
     "text": [
      "<class 'pandas.core.frame.DataFrame'>\n",
      "RangeIndex: 91 entries, 0 to 90\n",
      "Data columns (total 9 columns):\n",
      " #   Column       Non-Null Count  Dtype  \n",
      "---  ------       --------------  -----  \n",
      " 0   net_id       91 non-null     int64  \n",
      " 1   net_number   91 non-null     object \n",
      " 2   net_lat      91 non-null     int64  \n",
      " 3   net_long     91 non-null     int64  \n",
      " 4   has_changed  91 non-null     int64  \n",
      " 5   original_id  34 non-null     float64\n",
      " 6   station_id   91 non-null     int64  \n",
      " 7   updated_at   91 non-null     object \n",
      " 8   created_at   91 non-null     object \n",
      "dtypes: float64(1), int64(5), object(3)\n",
      "memory usage: 6.5+ KB\n"
     ]
    }
   ],
   "source": [
    "effort_net_register.info()"
   ]
  },
  {
   "cell_type": "code",
   "execution_count": 44,
   "metadata": {
    "ExecuteTime": {
     "end_time": "2021-03-29T22:57:51.101140Z",
     "start_time": "2021-03-29T22:57:51.077142Z"
    }
   },
   "outputs": [
    {
     "data": {
      "text/plain": [
       "(91, 9)"
      ]
     },
     "execution_count": 44,
     "metadata": {},
     "output_type": "execute_result"
    }
   ],
   "source": [
    "effort_net_register.shape"
   ]
  },
  {
   "cell_type": "code",
   "execution_count": 45,
   "metadata": {
    "ExecuteTime": {
     "end_time": "2021-03-29T22:57:56.549615Z",
     "start_time": "2021-03-29T22:57:56.525616Z"
    }
   },
   "outputs": [
    {
     "data": {
      "text/plain": [
       "Index(['net_id', 'net_number', 'net_lat', 'net_long', 'has_changed',\n",
       "       'original_id', 'station_id', 'updated_at', 'created_at'],\n",
       "      dtype='object')"
      ]
     },
     "execution_count": 45,
     "metadata": {},
     "output_type": "execute_result"
    }
   ],
   "source": [
    "effort_net_register.columns"
   ]
  },
  {
   "cell_type": "markdown",
   "metadata": {
    "ExecuteTime": {
     "end_time": "2021-03-29T22:58:03.801174Z",
     "start_time": "2021-03-29T22:58:03.793173Z"
    }
   },
   "source": [
    "## Abrindo arquivo *Station Register*"
   ]
  },
  {
   "cell_type": "code",
   "execution_count": 52,
   "metadata": {
    "ExecuteTime": {
     "end_time": "2021-03-29T22:58:46.594042Z",
     "start_time": "2021-03-29T22:58:46.578042Z"
    }
   },
   "outputs": [],
   "source": [
    "effort_station = pd.read_csv ('volu/STATION_REGISTER_202103120952.csv')"
   ]
  },
  {
   "cell_type": "code",
   "execution_count": 48,
   "metadata": {
    "ExecuteTime": {
     "end_time": "2021-03-29T22:58:17.508267Z",
     "start_time": "2021-03-29T22:58:17.500270Z"
    }
   },
   "outputs": [
    {
     "data": {
      "text/plain": [
       "(10, 11)"
      ]
     },
     "execution_count": 48,
     "metadata": {},
     "output_type": "execute_result"
    }
   ],
   "source": [
    "effort_station.shape"
   ]
  },
  {
   "cell_type": "code",
   "execution_count": 49,
   "metadata": {
    "ExecuteTime": {
     "end_time": "2021-03-29T22:58:23.384358Z",
     "start_time": "2021-03-29T22:58:23.368360Z"
    }
   },
   "outputs": [
    {
     "data": {
      "text/plain": [
       "Index(['station_id', 'station_code', 'station_name', 'city', 'state',\n",
       "       'center_lat', 'center_long', 'has_changed', 'original_id', 'created_at',\n",
       "       'updated_at'],\n",
       "      dtype='object')"
      ]
     },
     "execution_count": 49,
     "metadata": {},
     "output_type": "execute_result"
    }
   ],
   "source": [
    "effort_station.columns"
   ]
  },
  {
   "cell_type": "code",
   "execution_count": 50,
   "metadata": {
    "ExecuteTime": {
     "end_time": "2021-03-29T22:58:29.375723Z",
     "start_time": "2021-03-29T22:58:29.335727Z"
    }
   },
   "outputs": [
    {
     "data": {
      "text/html": [
       "<div>\n",
       "<style scoped>\n",
       "    .dataframe tbody tr th:only-of-type {\n",
       "        vertical-align: middle;\n",
       "    }\n",
       "\n",
       "    .dataframe tbody tr th {\n",
       "        vertical-align: top;\n",
       "    }\n",
       "\n",
       "    .dataframe thead th {\n",
       "        text-align: right;\n",
       "    }\n",
       "</style>\n",
       "<table border=\"1\" class=\"dataframe\">\n",
       "  <thead>\n",
       "    <tr style=\"text-align: right;\">\n",
       "      <th></th>\n",
       "      <th>station_id</th>\n",
       "      <th>station_code</th>\n",
       "      <th>station_name</th>\n",
       "      <th>city</th>\n",
       "      <th>state</th>\n",
       "      <th>center_lat</th>\n",
       "      <th>center_long</th>\n",
       "      <th>has_changed</th>\n",
       "      <th>original_id</th>\n",
       "      <th>created_at</th>\n",
       "      <th>updated_at</th>\n",
       "    </tr>\n",
       "  </thead>\n",
       "  <tbody>\n",
       "    <tr>\n",
       "      <th>0</th>\n",
       "      <td>1</td>\n",
       "      <td>PORT</td>\n",
       "      <td>Porteira da Fumaca</td>\n",
       "      <td>Resende</td>\n",
       "      <td>RJ</td>\n",
       "      <td>0</td>\n",
       "      <td>0</td>\n",
       "      <td>0</td>\n",
       "      <td>NaN</td>\n",
       "      <td>2020-04-09 19:56:38.0</td>\n",
       "      <td>2020-04-09 19:56:38.0</td>\n",
       "    </tr>\n",
       "    <tr>\n",
       "      <th>1</th>\n",
       "      <td>2</td>\n",
       "      <td>BOA1</td>\n",
       "      <td>Estacao 1 da Fazenda Boa Vista</td>\n",
       "      <td>Bocaina de Minas</td>\n",
       "      <td>RJ</td>\n",
       "      <td>0</td>\n",
       "      <td>0</td>\n",
       "      <td>0</td>\n",
       "      <td>NaN</td>\n",
       "      <td>2020-04-09 19:56:38.0</td>\n",
       "      <td>2020-04-09 19:56:38.0</td>\n",
       "    </tr>\n",
       "    <tr>\n",
       "      <th>2</th>\n",
       "      <td>3</td>\n",
       "      <td>LIA1</td>\n",
       "      <td>Avifauna Lidice - A1</td>\n",
       "      <td>Rio Claro</td>\n",
       "      <td>RJ</td>\n",
       "      <td>0</td>\n",
       "      <td>0</td>\n",
       "      <td>0</td>\n",
       "      <td>NaN</td>\n",
       "      <td>2020-10-03 22:27:26.0</td>\n",
       "      <td>2020-10-03 22:27:26.0</td>\n",
       "    </tr>\n",
       "    <tr>\n",
       "      <th>3</th>\n",
       "      <td>4</td>\n",
       "      <td>LIA2</td>\n",
       "      <td>Avifauna Lidice - A2</td>\n",
       "      <td>Rio Claro</td>\n",
       "      <td>RJ</td>\n",
       "      <td>0</td>\n",
       "      <td>0</td>\n",
       "      <td>0</td>\n",
       "      <td>NaN</td>\n",
       "      <td>2020-10-03 22:27:37.0</td>\n",
       "      <td>2020-10-03 22:27:37.0</td>\n",
       "    </tr>\n",
       "    <tr>\n",
       "      <th>4</th>\n",
       "      <td>5</td>\n",
       "      <td>LIA3</td>\n",
       "      <td>Avifauna Lidice - A3</td>\n",
       "      <td>Rio Claro</td>\n",
       "      <td>RJ</td>\n",
       "      <td>0</td>\n",
       "      <td>0</td>\n",
       "      <td>0</td>\n",
       "      <td>NaN</td>\n",
       "      <td>2020-10-03 22:27:46.0</td>\n",
       "      <td>2020-10-03 22:27:46.0</td>\n",
       "    </tr>\n",
       "    <tr>\n",
       "      <th>5</th>\n",
       "      <td>6</td>\n",
       "      <td>LIA4</td>\n",
       "      <td>Avifauna Lidice - A4</td>\n",
       "      <td>Rio Claro</td>\n",
       "      <td>RJ</td>\n",
       "      <td>0</td>\n",
       "      <td>0</td>\n",
       "      <td>0</td>\n",
       "      <td>NaN</td>\n",
       "      <td>2020-10-03 22:28:04.0</td>\n",
       "      <td>2020-10-03 22:28:04.0</td>\n",
       "    </tr>\n",
       "    <tr>\n",
       "      <th>6</th>\n",
       "      <td>7</td>\n",
       "      <td>LIA5</td>\n",
       "      <td>Avifauna Lidice - A5</td>\n",
       "      <td>Rio Claro</td>\n",
       "      <td>RJ</td>\n",
       "      <td>0</td>\n",
       "      <td>0</td>\n",
       "      <td>0</td>\n",
       "      <td>NaN</td>\n",
       "      <td>2020-10-03 22:28:25.0</td>\n",
       "      <td>2020-10-03 22:28:25.0</td>\n",
       "    </tr>\n",
       "    <tr>\n",
       "      <th>7</th>\n",
       "      <td>8</td>\n",
       "      <td>LIA6</td>\n",
       "      <td>Avifauna Lidice - A6</td>\n",
       "      <td>Rio Claro</td>\n",
       "      <td>RJ</td>\n",
       "      <td>0</td>\n",
       "      <td>0</td>\n",
       "      <td>0</td>\n",
       "      <td>NaN</td>\n",
       "      <td>2020-10-03 22:28:33.0</td>\n",
       "      <td>2020-10-03 22:28:33.0</td>\n",
       "    </tr>\n",
       "    <tr>\n",
       "      <th>8</th>\n",
       "      <td>9</td>\n",
       "      <td>LIA7</td>\n",
       "      <td>Avifauna Lidice - A7</td>\n",
       "      <td>Rio Claro</td>\n",
       "      <td>RJ</td>\n",
       "      <td>0</td>\n",
       "      <td>0</td>\n",
       "      <td>0</td>\n",
       "      <td>NaN</td>\n",
       "      <td>2020-10-03 22:28:41.0</td>\n",
       "      <td>2020-10-03 22:28:41.0</td>\n",
       "    </tr>\n",
       "    <tr>\n",
       "      <th>9</th>\n",
       "      <td>10</td>\n",
       "      <td>LIA8</td>\n",
       "      <td>Avifauna Lidice - A8</td>\n",
       "      <td>Rio Claro</td>\n",
       "      <td>RJ</td>\n",
       "      <td>0</td>\n",
       "      <td>0</td>\n",
       "      <td>0</td>\n",
       "      <td>NaN</td>\n",
       "      <td>2020-10-03 22:28:53.0</td>\n",
       "      <td>2020-10-03 22:28:53.0</td>\n",
       "    </tr>\n",
       "  </tbody>\n",
       "</table>\n",
       "</div>"
      ],
      "text/plain": [
       "   station_id station_code                    station_name              city  \\\n",
       "0           1         PORT              Porteira da Fumaca           Resende   \n",
       "1           2         BOA1  Estacao 1 da Fazenda Boa Vista  Bocaina de Minas   \n",
       "2           3         LIA1            Avifauna Lidice - A1         Rio Claro   \n",
       "3           4         LIA2            Avifauna Lidice - A2         Rio Claro   \n",
       "4           5         LIA3            Avifauna Lidice - A3         Rio Claro   \n",
       "5           6         LIA4            Avifauna Lidice - A4         Rio Claro   \n",
       "6           7         LIA5            Avifauna Lidice - A5         Rio Claro   \n",
       "7           8         LIA6            Avifauna Lidice - A6         Rio Claro   \n",
       "8           9         LIA7            Avifauna Lidice - A7         Rio Claro   \n",
       "9          10         LIA8            Avifauna Lidice - A8         Rio Claro   \n",
       "\n",
       "  state  center_lat  center_long  has_changed  original_id  \\\n",
       "0    RJ           0            0            0          NaN   \n",
       "1    RJ           0            0            0          NaN   \n",
       "2    RJ           0            0            0          NaN   \n",
       "3    RJ           0            0            0          NaN   \n",
       "4    RJ           0            0            0          NaN   \n",
       "5    RJ           0            0            0          NaN   \n",
       "6    RJ           0            0            0          NaN   \n",
       "7    RJ           0            0            0          NaN   \n",
       "8    RJ           0            0            0          NaN   \n",
       "9    RJ           0            0            0          NaN   \n",
       "\n",
       "              created_at             updated_at  \n",
       "0  2020-04-09 19:56:38.0  2020-04-09 19:56:38.0  \n",
       "1  2020-04-09 19:56:38.0  2020-04-09 19:56:38.0  \n",
       "2  2020-10-03 22:27:26.0  2020-10-03 22:27:26.0  \n",
       "3  2020-10-03 22:27:37.0  2020-10-03 22:27:37.0  \n",
       "4  2020-10-03 22:27:46.0  2020-10-03 22:27:46.0  \n",
       "5  2020-10-03 22:28:04.0  2020-10-03 22:28:04.0  \n",
       "6  2020-10-03 22:28:25.0  2020-10-03 22:28:25.0  \n",
       "7  2020-10-03 22:28:33.0  2020-10-03 22:28:33.0  \n",
       "8  2020-10-03 22:28:41.0  2020-10-03 22:28:41.0  \n",
       "9  2020-10-03 22:28:53.0  2020-10-03 22:28:53.0  "
      ]
     },
     "execution_count": 50,
     "metadata": {},
     "output_type": "execute_result"
    }
   ],
   "source": [
    "effort_station.head(12)"
   ]
  },
  {
   "cell_type": "code",
   "execution_count": 51,
   "metadata": {
    "ExecuteTime": {
     "end_time": "2021-03-29T22:58:35.132022Z",
     "start_time": "2021-03-29T22:58:35.100025Z"
    }
   },
   "outputs": [
    {
     "name": "stdout",
     "output_type": "stream",
     "text": [
      "<class 'pandas.core.frame.DataFrame'>\n",
      "RangeIndex: 10 entries, 0 to 9\n",
      "Data columns (total 11 columns):\n",
      " #   Column        Non-Null Count  Dtype  \n",
      "---  ------        --------------  -----  \n",
      " 0   station_id    10 non-null     int64  \n",
      " 1   station_code  10 non-null     object \n",
      " 2   station_name  10 non-null     object \n",
      " 3   city          10 non-null     object \n",
      " 4   state         10 non-null     object \n",
      " 5   center_lat    10 non-null     int64  \n",
      " 6   center_long   10 non-null     int64  \n",
      " 7   has_changed   10 non-null     int64  \n",
      " 8   original_id   0 non-null      float64\n",
      " 9   created_at    10 non-null     object \n",
      " 10  updated_at    10 non-null     object \n",
      "dtypes: float64(1), int64(4), object(6)\n",
      "memory usage: 1008.0+ bytes\n"
     ]
    }
   ],
   "source": [
    "effort_station.info()"
   ]
  }
 ],
 "metadata": {
  "kernelspec": {
   "display_name": "Python 3",
   "language": "python",
   "name": "python3"
  },
  "language_info": {
   "codemirror_mode": {
    "name": "ipython",
    "version": 3
   },
   "file_extension": ".py",
   "mimetype": "text/x-python",
   "name": "python",
   "nbconvert_exporter": "python",
   "pygments_lexer": "ipython3",
   "version": "3.8.3"
  },
  "toc": {
   "base_numbering": 1,
   "nav_menu": {},
   "number_sections": true,
   "sideBar": true,
   "skip_h1_title": false,
   "title_cell": "Table of Contents",
   "title_sidebar": "Contents",
   "toc_cell": false,
   "toc_position": {},
   "toc_section_display": true,
   "toc_window_display": false
  },
  "varInspector": {
   "cols": {
    "lenName": 16,
    "lenType": 16,
    "lenVar": 40
   },
   "kernels_config": {
    "python": {
     "delete_cmd_postfix": "",
     "delete_cmd_prefix": "del ",
     "library": "var_list.py",
     "varRefreshCmd": "print(var_dic_list())"
    },
    "r": {
     "delete_cmd_postfix": ") ",
     "delete_cmd_prefix": "rm(",
     "library": "var_list.r",
     "varRefreshCmd": "cat(var_dic_list()) "
    }
   },
   "types_to_exclude": [
    "module",
    "function",
    "builtin_function_or_method",
    "instance",
    "_Feature"
   ],
   "window_display": false
  }
 },
 "nbformat": 4,
 "nbformat_minor": 4
}
